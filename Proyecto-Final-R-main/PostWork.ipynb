{
 "cells": [
  {
   "cell_type": "markdown",
   "metadata": {},
   "source": [
    "# Programación y Estadística con R\n",
    "\n",
    "**Lenguaje de programación:** R\n",
    "\n",
    "**Equipo:** 11\n",
    "\n",
    "**Integrantes:**\n",
    "\n",
    "Ximena Ávila Villagómez\n",
    "\n",
    "Ana Katherine Cuevas Flores\n",
    "\n",
    "Félix Alberto Nieto García\n",
    "\n",
    "Daniel Gómez Avín\n",
    "\n",
    "Alejandro De Fuentes Martínez\n",
    "\n",
    "\n",
    "**Resumen:**\n",
    "\n",
    "El trabajo es sobre el análisis de datos de partido de fútbol de la selección española.  En el proceso se utilizaron temas, librerías y funciones vistas en las ocho clases del módulo “Programación y Estadística con R”. "
   ]
  },
  {
   "cell_type": "markdown",
   "metadata": {},
   "source": [
    "### Librerias utilizadas"
   ]
  },
  {
   "cell_type": "code",
   "execution_count": 4,
   "metadata": {},
   "outputs": [],
   "source": [
    "library(ggplot2)        #Para graficación de datoa\n",
    "library(dplyr)          #Para la manipulación y operaciones con data frames\n",
    "library(rsample)        #Para obtener diferentes tipos de muestreo\n",
    "library(lubridate)      #Para el tratamiendo de fechas\n",
    "library(mongolite)      #Para la Conexión con bases de datos de Mongo\n",
    "library(fbRanks)        #Crear modelos para clasificar a los equipos usando los goles anotados\n",
    "library(shiny)          #Crear web apps interactivas\n",
    "library(class)          #Funciones para la clasificación\n",
    "library(stringr)        #Manejo de cadena de caracteres\n",
    "library(shinydashboard) #Creación de  dashboard"
   ]
  },
  {
   "cell_type": "markdown",
   "metadata": {},
   "source": [
    "### Postwork 1 - Introducción a R y Software\n",
    "\n",
    "**Objetivo:** Realizar lectura de datos a R, observar algunas características los data frames para su manipulación y combinar múltiples data frames en un único data frame.\n",
    "\n",
    "**Hipotesis:** Los marcadores de los partidos de fubol más probables son los que tienen pocas anotaciones.\n",
    "\n",
    "**Preguntas clave:**\n",
    "1. ¿Qué estructura tienen los datos?\n",
    "2. ¿De qué tipo son los datos?\n",
    "3. ¿Cómo se relacionan las variables?"
   ]
  },
  {
   "cell_type": "markdown",
   "metadata": {},
   "source": [
    "1. Importa los datos de soccer de la temporada 2019/2020 de la primera división de la liga española a R que se encuentran en el enlace:  https://www.football-data.co.uk/spainm.php"
   ]
  },
  {
   "cell_type": "code",
   "execution_count": 6,
   "metadata": {},
   "outputs": [
    {
     "data": {
      "text/html": [
       "<table>\n",
       "<thead><tr><th scope=col>Div</th><th scope=col>Date</th><th scope=col>Time</th><th scope=col>HomeTeam</th><th scope=col>AwayTeam</th><th scope=col>FTHG</th><th scope=col>FTAG</th><th scope=col>FTR</th><th scope=col>HTHG</th><th scope=col>HTAG</th><th scope=col>...</th><th scope=col>AvgC.2.5.1</th><th scope=col>AHCh</th><th scope=col>B365CAHH</th><th scope=col>B365CAHA</th><th scope=col>PCAHH</th><th scope=col>PCAHA</th><th scope=col>MaxCAHH</th><th scope=col>MaxCAHA</th><th scope=col>AvgCAHH</th><th scope=col>AvgCAHA</th></tr></thead>\n",
       "<tbody>\n",
       "\t<tr><td>SP1        </td><td>16/08/2019 </td><td>20:00      </td><td>Ath Bilbao </td><td>Barcelona  </td><td>1          </td><td>0          </td><td>H          </td><td>0          </td><td>0          </td><td>...        </td><td>1.97       </td><td> 0.75      </td><td>1.93       </td><td>2.00       </td><td>1.91       </td><td>2.01       </td><td>2.02       </td><td>2.03       </td><td>1.91       </td><td>1.98       </td></tr>\n",
       "\t<tr><td>SP1        </td><td>17/08/2019 </td><td>16:00      </td><td>Celta      </td><td>Real Madrid</td><td>1          </td><td>3          </td><td>A          </td><td>0          </td><td>1          </td><td>...        </td><td>2.63       </td><td> 1.00      </td><td>1.82       </td><td>1.97       </td><td>1.85       </td><td>2.07       </td><td>2.00       </td><td>2.20       </td><td>1.82       </td><td>2.06       </td></tr>\n",
       "\t<tr><td>SP1        </td><td>17/08/2019 </td><td>18:00      </td><td>Valencia   </td><td>Sociedad   </td><td>1          </td><td>1          </td><td>D          </td><td>0          </td><td>0          </td><td>...        </td><td>1.82       </td><td>-0.75      </td><td>1.94       </td><td>1.99       </td><td>1.92       </td><td>2.00       </td><td>1.96       </td><td>2.12       </td><td>1.89       </td><td>2.00       </td></tr>\n",
       "\t<tr><td>SP1        </td><td>17/08/2019 </td><td>19:00      </td><td>Mallorca   </td><td>Eibar      </td><td>2          </td><td>1          </td><td>H          </td><td>1          </td><td>0          </td><td>...        </td><td>1.66       </td><td> 0.00      </td><td>2.11       </td><td>1.82       </td><td>2.09       </td><td>1.83       </td><td>2.12       </td><td>1.88       </td><td>2.07       </td><td>1.83       </td></tr>\n",
       "\t<tr><td>SP1        </td><td>17/08/2019 </td><td>20:00      </td><td>Leganes    </td><td>Osasuna    </td><td>0          </td><td>1          </td><td>A          </td><td>0          </td><td>0          </td><td>...        </td><td>1.46       </td><td>-0.50      </td><td>1.89       </td><td>2.04       </td><td>1.90       </td><td>2.01       </td><td>1.95       </td><td>2.06       </td><td>1.90       </td><td>1.99       </td></tr>\n",
       "\t<tr><td>SP1        </td><td>17/08/2019 </td><td>20:00      </td><td>Villarreal </td><td>Granada    </td><td>4          </td><td>4          </td><td>D          </td><td>1          </td><td>1          </td><td>...        </td><td>1.92       </td><td>-1.00      </td><td>1.96       </td><td>1.97       </td><td>1.96       </td><td>1.96       </td><td>1.98       </td><td>2.12       </td><td>1.93       </td><td>1.95       </td></tr>\n",
       "</tbody>\n",
       "</table>\n"
      ],
      "text/latex": [
       "\\begin{tabular}{r|lllllllllllllllllllllllllllllllllllllllllllllllllllllllllllllllllllllllllllllllllllllllllllllllllllllllll}\n",
       " Div & Date & Time & HomeTeam & AwayTeam & FTHG & FTAG & FTR & HTHG & HTAG & ... & AvgC.2.5.1 & AHCh & B365CAHH & B365CAHA & PCAHH & PCAHA & MaxCAHH & MaxCAHA & AvgCAHH & AvgCAHA\\\\\n",
       "\\hline\n",
       "\t SP1         & 16/08/2019  & 20:00       & Ath Bilbao  & Barcelona   & 1           & 0           & H           & 0           & 0           & ...         & 1.97        &  0.75       & 1.93        & 2.00        & 1.91        & 2.01        & 2.02        & 2.03        & 1.91        & 1.98       \\\\\n",
       "\t SP1         & 17/08/2019  & 16:00       & Celta       & Real Madrid & 1           & 3           & A           & 0           & 1           & ...         & 2.63        &  1.00       & 1.82        & 1.97        & 1.85        & 2.07        & 2.00        & 2.20        & 1.82        & 2.06       \\\\\n",
       "\t SP1         & 17/08/2019  & 18:00       & Valencia    & Sociedad    & 1           & 1           & D           & 0           & 0           & ...         & 1.82        & -0.75       & 1.94        & 1.99        & 1.92        & 2.00        & 1.96        & 2.12        & 1.89        & 2.00       \\\\\n",
       "\t SP1         & 17/08/2019  & 19:00       & Mallorca    & Eibar       & 2           & 1           & H           & 1           & 0           & ...         & 1.66        &  0.00       & 2.11        & 1.82        & 2.09        & 1.83        & 2.12        & 1.88        & 2.07        & 1.83       \\\\\n",
       "\t SP1         & 17/08/2019  & 20:00       & Leganes     & Osasuna     & 0           & 1           & A           & 0           & 0           & ...         & 1.46        & -0.50       & 1.89        & 2.04        & 1.90        & 2.01        & 1.95        & 2.06        & 1.90        & 1.99       \\\\\n",
       "\t SP1         & 17/08/2019  & 20:00       & Villarreal  & Granada     & 4           & 4           & D           & 1           & 1           & ...         & 1.92        & -1.00       & 1.96        & 1.97        & 1.96        & 1.96        & 1.98        & 2.12        & 1.93        & 1.95       \\\\\n",
       "\\end{tabular}\n"
      ],
      "text/markdown": [
       "\n",
       "| Div | Date | Time | HomeTeam | AwayTeam | FTHG | FTAG | FTR | HTHG | HTAG | ... | AvgC.2.5.1 | AHCh | B365CAHH | B365CAHA | PCAHH | PCAHA | MaxCAHH | MaxCAHA | AvgCAHH | AvgCAHA |\n",
       "|---|---|---|---|---|---|---|---|---|---|---|---|---|---|---|---|---|---|---|---|---|\n",
       "| SP1         | 16/08/2019  | 20:00       | Ath Bilbao  | Barcelona   | 1           | 0           | H           | 0           | 0           | ...         | 1.97        |  0.75       | 1.93        | 2.00        | 1.91        | 2.01        | 2.02        | 2.03        | 1.91        | 1.98        |\n",
       "| SP1         | 17/08/2019  | 16:00       | Celta       | Real Madrid | 1           | 3           | A           | 0           | 1           | ...         | 2.63        |  1.00       | 1.82        | 1.97        | 1.85        | 2.07        | 2.00        | 2.20        | 1.82        | 2.06        |\n",
       "| SP1         | 17/08/2019  | 18:00       | Valencia    | Sociedad    | 1           | 1           | D           | 0           | 0           | ...         | 1.82        | -0.75       | 1.94        | 1.99        | 1.92        | 2.00        | 1.96        | 2.12        | 1.89        | 2.00        |\n",
       "| SP1         | 17/08/2019  | 19:00       | Mallorca    | Eibar       | 2           | 1           | H           | 1           | 0           | ...         | 1.66        |  0.00       | 2.11        | 1.82        | 2.09        | 1.83        | 2.12        | 1.88        | 2.07        | 1.83        |\n",
       "| SP1         | 17/08/2019  | 20:00       | Leganes     | Osasuna     | 0           | 1           | A           | 0           | 0           | ...         | 1.46        | -0.50       | 1.89        | 2.04        | 1.90        | 2.01        | 1.95        | 2.06        | 1.90        | 1.99        |\n",
       "| SP1         | 17/08/2019  | 20:00       | Villarreal  | Granada     | 4           | 4           | D           | 1           | 1           | ...         | 1.92        | -1.00       | 1.96        | 1.97        | 1.96        | 1.96        | 1.98        | 2.12        | 1.93        | 1.95        |\n",
       "\n"
      ],
      "text/plain": [
       "  Div Date       Time  HomeTeam   AwayTeam    FTHG FTAG FTR HTHG HTAG ...\n",
       "1 SP1 16/08/2019 20:00 Ath Bilbao Barcelona   1    0    H   0    0    ...\n",
       "2 SP1 17/08/2019 16:00 Celta      Real Madrid 1    3    A   0    1    ...\n",
       "3 SP1 17/08/2019 18:00 Valencia   Sociedad    1    1    D   0    0    ...\n",
       "4 SP1 17/08/2019 19:00 Mallorca   Eibar       2    1    H   1    0    ...\n",
       "5 SP1 17/08/2019 20:00 Leganes    Osasuna     0    1    A   0    0    ...\n",
       "6 SP1 17/08/2019 20:00 Villarreal Granada     4    4    D   1    1    ...\n",
       "  AvgC.2.5.1 AHCh  B365CAHH B365CAHA PCAHH PCAHA MaxCAHH MaxCAHA AvgCAHH\n",
       "1 1.97        0.75 1.93     2.00     1.91  2.01  2.02    2.03    1.91   \n",
       "2 2.63        1.00 1.82     1.97     1.85  2.07  2.00    2.20    1.82   \n",
       "3 1.82       -0.75 1.94     1.99     1.92  2.00  1.96    2.12    1.89   \n",
       "4 1.66        0.00 2.11     1.82     2.09  1.83  2.12    1.88    2.07   \n",
       "5 1.46       -0.50 1.89     2.04     1.90  2.01  1.95    2.06    1.90   \n",
       "6 1.92       -1.00 1.96     1.97     1.96  1.96  1.98    2.12    1.93   \n",
       "  AvgCAHA\n",
       "1 1.98   \n",
       "2 2.06   \n",
       "3 2.00   \n",
       "4 1.83   \n",
       "5 1.99   \n",
       "6 1.95   "
      ]
     },
     "metadata": {},
     "output_type": "display_data"
    }
   ],
   "source": [
    "LinkT1920 <- \"https://www.football-data.co.uk/mmz4281/1920/SP1.csv\" #Link de los datos\n",
    "DatosT1920 <- read.csv(LinkT1920) #Leer datos\n",
    "head(DatosT1920) #Primeros registros "
   ]
  },
  {
   "cell_type": "code",
   "execution_count": 7,
   "metadata": {},
   "outputs": [
    {
     "name": "stdout",
     "output_type": "stream",
     "text": [
      "'data.frame':\t380 obs. of  105 variables:\n",
      " $ Div        : Factor w/ 1 level \"SP1\": 1 1 1 1 1 1 1 1 1 1 ...\n",
      " $ Date       : Factor w/ 116 levels \"01/02/2020\",\"01/03/2020\",..: 56 59 59 59 59 59 62 62 62 62 ...\n",
      " $ Time       : Factor w/ 13 levels \"11:00\",\"12:00\",..: 11 5 7 9 11 11 5 7 11 13 ...\n",
      " $ HomeTeam   : Factor w/ 20 levels \"Alaves\",\"Ath Bilbao\",..: 2 6 18 13 11 20 1 8 5 3 ...\n",
      " $ AwayTeam   : Factor w/ 20 levels \"Alaves\",\"Ath Bilbao\",..: 4 15 17 7 14 10 12 16 19 9 ...\n",
      " $ FTHG       : int  1 1 1 2 0 4 1 0 1 1 ...\n",
      " $ FTAG       : int  0 3 1 1 1 4 0 2 2 0 ...\n",
      " $ FTR        : Factor w/ 3 levels \"A\",\"D\",\"H\": 3 1 2 3 1 2 3 1 1 3 ...\n",
      " $ HTHG       : int  0 0 0 1 0 1 0 0 0 1 ...\n",
      " $ HTAG       : int  0 1 0 0 0 1 0 1 0 0 ...\n",
      " $ HTR        : Factor w/ 3 levels \"A\",\"D\",\"H\": 2 1 2 3 2 2 2 1 2 3 ...\n",
      " $ HS         : int  11 7 14 16 13 12 9 7 13 5 ...\n",
      " $ AS         : int  11 17 12 11 4 14 16 12 14 6 ...\n",
      " $ HST        : int  5 4 6 4 2 7 2 2 4 5 ...\n",
      " $ AST        : int  2 11 3 5 2 7 4 4 3 0 ...\n",
      " $ HF         : int  14 17 13 13 17 10 18 11 11 19 ...\n",
      " $ AF         : int  9 12 14 14 11 16 15 17 19 22 ...\n",
      " $ HC         : int  3 6 3 9 8 2 2 8 6 3 ...\n",
      " $ AC         : int  8 4 3 3 0 7 9 4 1 4 ...\n",
      " $ HY         : int  1 5 4 2 1 3 2 2 2 3 ...\n",
      " $ AY         : int  1 2 4 3 4 1 1 2 6 4 ...\n",
      " $ HR         : int  0 0 1 0 1 0 0 0 1 1 ...\n",
      " $ AR         : int  0 1 0 0 0 0 0 0 0 1 ...\n",
      " $ B365H      : num  5.25 4.75 1.66 2.8 2 1.6 2.15 3.2 1.66 1.44 ...\n",
      " $ B365D      : num  3.8 4.2 3.75 3.2 3.2 3.8 3.2 3.3 3.75 4.33 ...\n",
      " $ B365A      : num  1.65 1.65 5.5 2.6 4.2 6.5 3.6 2.3 5.5 8 ...\n",
      " $ BWH        : num  5.5 4.4 1.67 2.95 2.05 1.6 2.15 3.1 1.65 1.45 ...\n",
      " $ BWD        : num  3.8 4.2 3.75 3.1 3.25 3.8 3.3 3.4 3.75 4.33 ...\n",
      " $ BWA        : num  1.65 1.72 5.5 2.6 3.9 6.25 3.6 2.3 5.75 7.5 ...\n",
      " $ IWH        : num  5 5.3 1.67 2.9 2.05 1.63 2.2 3.1 1.63 1.45 ...\n",
      " $ IWD        : num  3.8 4.2 3.75 3.1 3.1 4 3.25 3.4 3.75 4.4 ...\n",
      " $ IWA        : num  1.7 1.6 5.3 2.6 4.05 5.5 3.4 2.3 5.7 7.2 ...\n",
      " $ PSH        : num  5.15 4.73 1.68 2.98 2.1 1.62 2.29 3.13 1.63 1.49 ...\n",
      " $ PSD        : num  3.84 4.18 3.94 3.14 3.21 3.99 3.31 3.56 3.81 4.34 ...\n",
      " $ PSA        : num  1.74 1.72 5.47 2.66 4.13 6.13 3.45 2.33 6.38 7.58 ...\n",
      " $ WHH        : num  5 5.25 1.67 2.9 2.05 1.6 2.25 3 1.62 1.47 ...\n",
      " $ WHD        : num  3.8 4.2 3.8 3.1 3.2 3.9 3.3 3.5 3.75 4.2 ...\n",
      " $ WHA        : num  1.7 1.6 5.25 2.62 4 5.8 3.3 2.3 6 8 ...\n",
      " $ VCH        : num  5 4.75 1.67 2.9 2.1 1.65 2.25 3 1.62 1.45 ...\n",
      " $ VCD        : num  3.8 4.2 3.9 3.13 3.2 4 3.3 3.5 3.8 4.2 ...\n",
      " $ VCA        : num  1.75 1.73 5.75 2.7 4.1 5.75 3.3 2.3 5.75 8 ...\n",
      " $ MaxH       : num  5.5 5.3 1.72 3.05 2.1 1.65 2.31 3.2 1.67 1.52 ...\n",
      " $ MaxD       : num  3.95 4.4 3.98 3.2 3.3 4.15 3.4 3.56 3.9 4.5 ...\n",
      " $ MaxA       : num  1.76 1.73 5.75 2.7 4.25 6.5 3.6 2.4 6.5 8.5 ...\n",
      " $ AvgH       : num  5.07 4.67 1.68 2.91 2.06 1.61 2.23 3.08 1.64 1.47 ...\n",
      " $ AvgD       : num  3.81 4.12 3.8 3.09 3.18 3.95 3.25 3.41 3.76 4.23 ...\n",
      " $ AvgA       : num  1.71 1.69 5.29 2.62 4.02 5.8 3.43 2.33 5.78 7.63 ...\n",
      " $ B365.2.5   : num  1.8 1.53 2 2.3 2.5 1.8 2.1 1.9 2.1 2.2 ...\n",
      " $ B365.2.5.1 : num  2 2.5 1.8 1.61 1.53 2 1.72 1.9 1.72 1.66 ...\n",
      " $ P.2.5      : num  1.81 1.52 2.08 2.45 2.72 1.88 2.16 1.95 2.16 2.3 ...\n",
      " $ P.2.5.1    : num  2.09 2.66 1.82 1.6 1.5 2.02 1.76 1.95 1.76 1.68 ...\n",
      " $ Max.2.5    : num  1.85 1.53 2.14 2.47 2.75 1.9 2.2 1.98 2.21 2.3 ...\n",
      " $ Max.2.5.1  : num  2.11 2.72 1.83 1.65 1.54 2.05 1.77 1.95 1.78 1.71 ...\n",
      " $ Avg.2.5    : num  1.79 1.49 2.07 2.34 2.59 1.84 2.13 1.92 2.13 2.23 ...\n",
      " $ Avg.2.5.1  : num  2.05 2.58 1.77 1.6 1.49 1.98 1.72 1.89 1.72 1.66 ...\n",
      " $ AHh        : num  0.75 0.75 -0.75 0 -0.5 -1 -0.25 0.25 -0.75 -1 ...\n",
      " $ B365AHH    : num  1.99 2.04 1.91 2.05 2.08 2.05 1.95 1.88 1.86 1.88 ...\n",
      " $ B365AHA    : num  1.94 1.89 2.02 1.88 1.85 1.75 1.98 2.05 2.07 2.05 ...\n",
      " $ PAHH       : num  1.98 2.01 1.91 2.07 2.1 2.11 1.96 1.9 1.84 1.88 ...\n",
      " $ PAHA       : num  1.94 1.91 2.01 1.85 1.82 1.81 1.96 2.02 2.08 2.04 ...\n",
      " $ MaxAHH     : num  2 2.05 1.93 2.07 2.1 2.14 1.97 1.9 1.87 1.89 ...\n",
      " $ MaxAHA     : num  1.95 1.91 2.03 1.88 1.85 1.85 1.99 2.06 2.08 2.08 ...\n",
      " $ AvgAHH     : num  1.96 2 1.89 2.04 2.06 2.07 1.93 1.87 1.83 1.85 ...\n",
      " $ AvgAHA     : num  1.92 1.88 1.99 1.85 1.83 1.8 1.95 2.01 2.06 2.03 ...\n",
      " $ B365CH     : num  5.25 5.25 1.66 2.87 1.9 1.53 2.3 3 1.8 1.5 ...\n",
      " $ B365CD     : num  3.8 4.2 3.75 3.2 3.1 4 3.4 3.4 3.6 4 ...\n",
      " $ B365CA     : num  1.65 1.57 5.5 2.55 5 6.5 3.2 2.4 4.75 8 ...\n",
      " $ BWCH       : num  4.75 4.5 1.65 2.95 1.95 1.57 2.35 3 1.8 1.5 ...\n",
      " $ BWCD       : num  3.75 4.1 3.8 3.1 3.2 3.8 3.2 3.4 3.4 3.9 ...\n",
      " $ BWCA       : num  1.75 1.7 5.5 2.6 4.5 6.5 3.2 2.35 5 7.75 ...\n",
      " $ IWCH       : num  5 4.6 1.67 2.9 1.9 1.55 2.35 3 1.85 1.5 ...\n",
      " $ IWCD       : num  3.8 3.8 3.8 3.1 3.15 4.05 3.25 3.35 3.55 3.9 ...\n",
      " $ IWCA       : num  1.7 1.75 5.3 2.6 4.85 6.3 3.15 2.35 4.4 7.6 ...\n",
      " $ PSCH       : num  5.34 5.1 1.69 2.96 1.9 1.54 2.43 3.13 1.82 1.57 ...\n",
      " $ PSCD       : num  3.62 4.46 3.88 3.26 3.18 4.19 3.27 3.38 3.53 3.78 ...\n",
      " $ PSCA       : num  1.78 1.65 5.47 2.6 5.3 6.87 3.2 2.41 5.07 7.66 ...\n",
      " $ WHCH       : num  5 5 1.65 2.9 2.05 1.62 2.25 3 1.78 1.5 ...\n",
      " $ WHCD       : num  3.8 4.2 3.9 3.1 3.2 3.9 3.3 3.4 3.5 3.8 ...\n",
      " $ WHCA       : num  1.7 1.63 5.25 2.6 4 5.8 3.3 2.35 5 8 ...\n",
      " $ VCCH       : num  4.8 5.2 1.7 3 1.9 1.57 2.45 3.13 1.87 1.55 ...\n",
      " $ VCCD       : num  3.8 4.4 3.9 3.13 3.2 4 3.3 3.4 3.5 3.9 ...\n",
      " $ VCCA       : num  1.8 1.65 5.5 2.63 5.2 7 3.13 2.4 4.6 8 ...\n",
      " $ MaxCH      : num  5.8 6 1.72 3.05 1.95 1.58 2.46 3.38 1.87 1.58 ...\n",
      " $ MaxCD      : num  3.9 4.52 3.95 3.29 3.26 4.2 3.42 3.47 3.65 4.05 ...\n",
      " $ MaxCA      : num  1.81 1.75 6.2 2.72 5.3 7.3 3.58 2.48 5.35 8.9 ...\n",
      " $ AvgCH      : num  5.03 4.93 1.68 2.93 1.9 1.54 2.37 3.05 1.83 1.53 ...\n",
      " $ AvgCD      : num  3.66 4.26 3.82 3.14 3.16 4.05 3.25 3.34 3.5 3.84 ...\n",
      " $ AvgCA      : num  1.76 1.65 5.37 2.59 4.91 6.66 3.18 2.39 4.74 7.68 ...\n",
      " $ B365C.2.5  : num  1.9 1.44 2 2.2 2.75 1.9 2.1 2 2 2.37 ...\n",
      " $ B365C.2.5.1: num  1.9 2.75 1.8 1.66 1.44 1.9 1.72 1.8 1.8 1.57 ...\n",
      " $ PC.2.5     : num  1.98 1.49 2.06 2.2 2.84 1.95 2.18 2.04 2.03 2.43 ...\n",
      " $ PC.2.5.1   : num  1.93 2.76 1.85 1.74 1.47 1.95 1.75 1.85 1.87 1.61 ...\n",
      " $ MaxC.2.5   : num  1.99 1.51 2.08 2.38 2.85 1.98 2.18 2.09 2.07 2.46 ...\n",
      " $ MaxC.2.5.1 : num  2.11 2.88 1.98 1.74 1.5 2.1 1.83 2.05 1.92 1.65 ...\n",
      " $ AvgC.2.5   : num  1.86 1.47 2 2.24 2.69 1.9 2.1 1.97 1.99 2.36 ...\n",
      " $ AvgC.2.5.1 : num  1.97 2.63 1.82 1.66 1.46 1.92 1.74 1.85 1.83 1.59 ...\n",
      " $ AHCh       : num  0.75 1 -0.75 0 -0.5 -1 -0.25 0.25 -0.75 -1 ...\n",
      " $ B365CAHH   : num  1.93 1.82 1.94 2.11 1.89 1.96 2.08 1.86 2.02 2.06 ...\n",
      " $ B365CAHA   : num  2 1.97 1.99 1.82 2.04 1.97 1.85 2.07 1.77 1.87 ...\n",
      "  [list output truncated]\n"
     ]
    }
   ],
   "source": [
    "str(DatosT1920) #Estructura de los datos"
   ]
  },
  {
   "cell_type": "markdown",
   "metadata": {},
   "source": [
    "2. Se extrae las columnas que contienen los números de goles anotados por los equipos que jugaron en casa (FTHG) y los goles anotados por los equipos que jugaron como visitante (FTAG)"
   ]
  },
  {
   "cell_type": "code",
   "execution_count": 8,
   "metadata": {},
   "outputs": [],
   "source": [
    "Goles <- select(DatosT1920, FTHG,FTAG) #Se extraen las columnas deseadas"
   ]
  },
  {
   "cell_type": "markdown",
   "metadata": {},
   "source": [
    "3. Se elaboran tablas de frecuencias relativas para estimar las siguientes probabilidades marginales del equipo que juega en casa, la probabilidad marguinal para el equipo que juega como visitante y la probabilidad conjunta."
   ]
  },
  {
   "cell_type": "code",
   "execution_count": 9,
   "metadata": {},
   "outputs": [
    {
     "name": "stdout",
     "output_type": "stream",
     "text": [
      "[1] \"Probabilidad conjunta\"\n"
     ]
    },
    {
     "data": {
      "text/plain": [
       "         \n",
       "          0 goles  1 gol 2 goles 3 goles 4 goles 5 goles\n",
       "  0 goles  0.0868 0.0737  0.0395  0.0211  0.0053  0.0053\n",
       "  1 gol    0.1132 0.1289  0.0842  0.0132  0.0079  0.0000\n",
       "  2 goles  0.1026 0.0921  0.0526  0.0079  0.0053  0.0000\n",
       "  3 goles  0.0368 0.0368  0.0184  0.0053  0.0026  0.0000\n",
       "  4 goles  0.0105 0.0132  0.0105  0.0000  0.0026  0.0000\n",
       "  5 goles  0.0053 0.0079  0.0079  0.0000  0.0000  0.0000\n",
       "  6 goles  0.0026 0.0000  0.0000  0.0000  0.0000  0.0000"
      ]
     },
     "metadata": {},
     "output_type": "display_data"
    }
   ],
   "source": [
    "ProbConjunta <- prop.table(table(Goles$FTHG, Goles$FTAG )) #Probabilidad conjunta\n",
    "#Se renombras las filas y columnas\n",
    "colnames(ProbConjunta) <- c(\"0 goles\", \"1 gol\", \"2 goles\", \"3 goles\", \"4 goles\", \"5 goles\")\n",
    "rownames(ProbConjunta) <- c(\"0 goles\", \"1 gol\", \"2 goles\", \"3 goles\", \"4 goles\", \"5 goles\", \"6 goles\")\n",
    "#Se visualizan los datos\n",
    "print('Probabilidad conjunta')\n",
    "round(ProbConjunta,4)"
   ]
  },
  {
   "cell_type": "code",
   "execution_count": 10,
   "metadata": {},
   "outputs": [
    {
     "data": {
      "text/html": [
       "<table>\n",
       "<thead><tr><th></th><th scope=col>ProbCasa</th><th scope=col>ProbVisitante</th></tr></thead>\n",
       "<tbody>\n",
       "\t<tr><th scope=row>0 goles</th><td>0.231578947</td><td>0.357894737</td></tr>\n",
       "\t<tr><th scope=row>1 gol</th><td>0.347368421</td><td>0.352631579</td></tr>\n",
       "\t<tr><th scope=row>2 goles</th><td>0.260526316</td><td>0.213157895</td></tr>\n",
       "\t<tr><th scope=row>3 goles</th><td>0.100000000</td><td>0.047368421</td></tr>\n",
       "\t<tr><th scope=row>4 goles</th><td>0.036842105</td><td>0.023684211</td></tr>\n",
       "\t<tr><th scope=row>5 goles</th><td>0.021052632</td><td>0.005263158</td></tr>\n",
       "\t<tr><th scope=row>6 goles</th><td>0.002631579</td><td>        NaN</td></tr>\n",
       "</tbody>\n",
       "</table>\n"
      ],
      "text/latex": [
       "\\begin{tabular}{r|ll}\n",
       "  & ProbCasa & ProbVisitante\\\\\n",
       "\\hline\n",
       "\t0 goles & 0.231578947 & 0.357894737\\\\\n",
       "\t1 gol & 0.347368421 & 0.352631579\\\\\n",
       "\t2 goles & 0.260526316 & 0.213157895\\\\\n",
       "\t3 goles & 0.100000000 & 0.047368421\\\\\n",
       "\t4 goles & 0.036842105 & 0.023684211\\\\\n",
       "\t5 goles & 0.021052632 & 0.005263158\\\\\n",
       "\t6 goles & 0.002631579 &         NaN\\\\\n",
       "\\end{tabular}\n"
      ],
      "text/markdown": [
       "\n",
       "| <!--/--> | ProbCasa | ProbVisitante |\n",
       "|---|---|---|\n",
       "| 0 goles | 0.231578947 | 0.357894737 |\n",
       "| 1 gol | 0.347368421 | 0.352631579 |\n",
       "| 2 goles | 0.260526316 | 0.213157895 |\n",
       "| 3 goles | 0.100000000 | 0.047368421 |\n",
       "| 4 goles | 0.036842105 | 0.023684211 |\n",
       "| 5 goles | 0.021052632 | 0.005263158 |\n",
       "| 6 goles | 0.002631579 |         NaN |\n",
       "\n"
      ],
      "text/plain": [
       "        ProbCasa    ProbVisitante\n",
       "0 goles 0.231578947 0.357894737  \n",
       "1 gol   0.347368421 0.352631579  \n",
       "2 goles 0.260526316 0.213157895  \n",
       "3 goles 0.100000000 0.047368421  \n",
       "4 goles 0.036842105 0.023684211  \n",
       "5 goles 0.021052632 0.005263158  \n",
       "6 goles 0.002631579         NaN  "
      ]
     },
     "metadata": {},
     "output_type": "display_data"
    }
   ],
   "source": [
    "#Se obtiene la probabilidad marginal\n",
    "ProbCasa<- prop.table(apply(ProbConjunta,MARGIN = 1,sum))\n",
    "ProbVisitante<- prop.table( apply(ProbConjunta,MARGIN = 2,sum))\n",
    "#Se reune la información en un dataframe y se visualiza\n",
    "ProbMarginal <- cbind(ProbCasa,c(ProbVisitante, NaN))\n",
    "colnames(ProbMarginal)[2] <- 'ProbVisitante'\n",
    "ProbMarginal"
   ]
  },
  {
   "cell_type": "code",
   "execution_count": 11,
   "metadata": {
    "scrolled": true
   },
   "outputs": [
    {
     "data": {
      "text/html": [
       "<table>\n",
       "<thead><tr><th></th><th scope=col>0 goles</th><th scope=col>1 gol</th><th scope=col>2 goles</th><th scope=col>3 goles</th><th scope=col>4 goles</th><th scope=col>5 goles</th><th scope=col>ProbCasa</th></tr></thead>\n",
       "<tbody>\n",
       "\t<tr><th scope=row>0 goles</th><td>0.086842105</td><td>0.073684211</td><td>0.039473684</td><td>0.021052632</td><td>0.005263158</td><td>0.005263158</td><td>0.231578947</td></tr>\n",
       "\t<tr><th scope=row>1 gol</th><td>0.113157895</td><td>0.128947368</td><td>0.084210526</td><td>0.013157895</td><td>0.007894737</td><td>0.000000000</td><td>0.347368421</td></tr>\n",
       "\t<tr><th scope=row>2 goles</th><td>0.102631579</td><td>0.092105263</td><td>0.052631579</td><td>0.007894737</td><td>0.005263158</td><td>0.000000000</td><td>0.260526316</td></tr>\n",
       "\t<tr><th scope=row>3 goles</th><td>0.036842105</td><td>0.036842105</td><td>0.018421053</td><td>0.005263158</td><td>0.002631579</td><td>0.000000000</td><td>0.100000000</td></tr>\n",
       "\t<tr><th scope=row>4 goles</th><td>0.010526316</td><td>0.013157895</td><td>0.010526316</td><td>0.000000000</td><td>0.002631579</td><td>0.000000000</td><td>0.036842105</td></tr>\n",
       "\t<tr><th scope=row>5 goles</th><td>0.005263158</td><td>0.007894737</td><td>0.007894737</td><td>0.000000000</td><td>0.000000000</td><td>0.000000000</td><td>0.021052632</td></tr>\n",
       "\t<tr><th scope=row>6 goles</th><td>0.002631579</td><td>0.000000000</td><td>0.000000000</td><td>0.000000000</td><td>0.000000000</td><td>0.000000000</td><td>0.002631579</td></tr>\n",
       "\t<tr><th scope=row>ProbVisitante</th><td>0.357894737</td><td>0.352631579</td><td>0.213157895</td><td>0.047368421</td><td>0.023684211</td><td>0.005263158</td><td>        NaN</td></tr>\n",
       "</tbody>\n",
       "</table>\n"
      ],
      "text/latex": [
       "\\begin{tabular}{r|lllllll}\n",
       "  & 0 goles & 1 gol & 2 goles & 3 goles & 4 goles & 5 goles & ProbCasa\\\\\n",
       "\\hline\n",
       "\t0 goles & 0.086842105 & 0.073684211 & 0.039473684 & 0.021052632 & 0.005263158 & 0.005263158 & 0.231578947\\\\\n",
       "\t1 gol & 0.113157895 & 0.128947368 & 0.084210526 & 0.013157895 & 0.007894737 & 0.000000000 & 0.347368421\\\\\n",
       "\t2 goles & 0.102631579 & 0.092105263 & 0.052631579 & 0.007894737 & 0.005263158 & 0.000000000 & 0.260526316\\\\\n",
       "\t3 goles & 0.036842105 & 0.036842105 & 0.018421053 & 0.005263158 & 0.002631579 & 0.000000000 & 0.100000000\\\\\n",
       "\t4 goles & 0.010526316 & 0.013157895 & 0.010526316 & 0.000000000 & 0.002631579 & 0.000000000 & 0.036842105\\\\\n",
       "\t5 goles & 0.005263158 & 0.007894737 & 0.007894737 & 0.000000000 & 0.000000000 & 0.000000000 & 0.021052632\\\\\n",
       "\t6 goles & 0.002631579 & 0.000000000 & 0.000000000 & 0.000000000 & 0.000000000 & 0.000000000 & 0.002631579\\\\\n",
       "\tProbVisitante & 0.357894737 & 0.352631579 & 0.213157895 & 0.047368421 & 0.023684211 & 0.005263158 &         NaN\\\\\n",
       "\\end{tabular}\n"
      ],
      "text/markdown": [
       "\n",
       "| <!--/--> | 0 goles | 1 gol | 2 goles | 3 goles | 4 goles | 5 goles | ProbCasa |\n",
       "|---|---|---|---|---|---|---|---|\n",
       "| 0 goles | 0.086842105 | 0.073684211 | 0.039473684 | 0.021052632 | 0.005263158 | 0.005263158 | 0.231578947 |\n",
       "| 1 gol | 0.113157895 | 0.128947368 | 0.084210526 | 0.013157895 | 0.007894737 | 0.000000000 | 0.347368421 |\n",
       "| 2 goles | 0.102631579 | 0.092105263 | 0.052631579 | 0.007894737 | 0.005263158 | 0.000000000 | 0.260526316 |\n",
       "| 3 goles | 0.036842105 | 0.036842105 | 0.018421053 | 0.005263158 | 0.002631579 | 0.000000000 | 0.100000000 |\n",
       "| 4 goles | 0.010526316 | 0.013157895 | 0.010526316 | 0.000000000 | 0.002631579 | 0.000000000 | 0.036842105 |\n",
       "| 5 goles | 0.005263158 | 0.007894737 | 0.007894737 | 0.000000000 | 0.000000000 | 0.000000000 | 0.021052632 |\n",
       "| 6 goles | 0.002631579 | 0.000000000 | 0.000000000 | 0.000000000 | 0.000000000 | 0.000000000 | 0.002631579 |\n",
       "| ProbVisitante | 0.357894737 | 0.352631579 | 0.213157895 | 0.047368421 | 0.023684211 | 0.005263158 |         NaN |\n",
       "\n"
      ],
      "text/plain": [
       "              0 goles     1 gol       2 goles     3 goles     4 goles    \n",
       "0 goles       0.086842105 0.073684211 0.039473684 0.021052632 0.005263158\n",
       "1 gol         0.113157895 0.128947368 0.084210526 0.013157895 0.007894737\n",
       "2 goles       0.102631579 0.092105263 0.052631579 0.007894737 0.005263158\n",
       "3 goles       0.036842105 0.036842105 0.018421053 0.005263158 0.002631579\n",
       "4 goles       0.010526316 0.013157895 0.010526316 0.000000000 0.002631579\n",
       "5 goles       0.005263158 0.007894737 0.007894737 0.000000000 0.000000000\n",
       "6 goles       0.002631579 0.000000000 0.000000000 0.000000000 0.000000000\n",
       "ProbVisitante 0.357894737 0.352631579 0.213157895 0.047368421 0.023684211\n",
       "              5 goles     ProbCasa   \n",
       "0 goles       0.005263158 0.231578947\n",
       "1 gol         0.000000000 0.347368421\n",
       "2 goles       0.000000000 0.260526316\n",
       "3 goles       0.000000000 0.100000000\n",
       "4 goles       0.000000000 0.036842105\n",
       "5 goles       0.000000000 0.021052632\n",
       "6 goles       0.000000000 0.002631579\n",
       "ProbVisitante 0.005263158         NaN"
      ]
     },
     "metadata": {},
     "output_type": "display_data"
    }
   ],
   "source": [
    "#Se junta la información en una sola matriz\n",
    "Probabilidad<-rbind(cbind(ProbConjunta,ProbCasa),c(ProbVisitante,NaN))\n",
    "rownames(Probabilidad)[8] <- 'ProbVisitante'\n",
    "Probabilidad"
   ]
  },
  {
   "cell_type": "markdown",
   "metadata": {},
   "source": [
    "**Hallazgos:**\n",
    "1. Para el equipo visitante es más probable anotar cero goles.\n",
    "2. Para el equipo de casa es más probable anotar uno gol.\n",
    "\n",
    "**Conclusión:**\n",
    "\n",
    "La mayor parte de la probabilidad se concentra en anotar menos de tres goles. Existe una tendencia a anotar menos de tres goles que anotar más de tres."
   ]
  },
  {
   "cell_type": "markdown",
   "metadata": {},
   "source": [
    "### Postwork 2  - Programación y manipulación de datos en R \n",
    "**Objetivo:** Importar multiples datos a R, filtrar filas, seleccionar variables, transformar variables y en general manipular los datos para llevarlos a una forma deseada.\n",
    "\n",
    "**Hipotesis:**:\n",
    "Los datos tienen la misma estructura\n",
    "\n",
    "**Preguntas clave:**\n",
    "1. ¿Los diferentes archivos tienen la misma estructura?\n",
    "2. ¿Los datos de las columnas de interes tienene el mismo tipo?\n",
    "3. ¿Qué formato tiene las fechas?\n"
   ]
  },
  {
   "cell_type": "markdown",
   "metadata": {},
   "source": [
    "1. Se importa los datos de soccer de las temporadas 2017/2018, 2018/2019 y 2019/2020 de la primera división de la liga española, los datos los puedes encontrar en el siguiente enlace: https://www.football-data.co.uk/spainm.php"
   ]
  },
  {
   "cell_type": "code",
   "execution_count": 6,
   "metadata": {},
   "outputs": [],
   "source": [
    "# Links de los csv a descargar\n",
    "LinkT1718 <- \"https://www.football-data.co.uk/mmz4281/1718/SP1.csv\"\n",
    "LinkT1819 <- \"https://www.football-data.co.uk/mmz4281/1819/SP1.csv\"\n",
    "LinkT1920 <- \"https://www.football-data.co.uk/mmz4281/1920/SP1.csv\""
   ]
  },
  {
   "cell_type": "code",
   "execution_count": 7,
   "metadata": {},
   "outputs": [],
   "source": [
    "#Se descargan los archivos\n",
    "download.file(url = LinkT1920, destfile = \"SP1.1920.csv\", mode = \"wb\")\n",
    "download.file(url = LinkT1819, destfile = \"SP1.1819.csv\", mode = \"wb\")\n",
    "download.file(url = LinkT1718, destfile = \"SP1.1718.csv\", mode = \"wb\")"
   ]
  },
  {
   "cell_type": "code",
   "execution_count": 32,
   "metadata": {},
   "outputs": [],
   "source": [
    "#Se vizualizan los datos de la carpeta donde se encuentra el script\n",
    "dir()"
   ]
  },
  {
   "cell_type": "code",
   "execution_count": 9,
   "metadata": {},
   "outputs": [],
   "source": [
    "#Se selecciona los archivos csv\n",
    "LigaEspanola <- lapply(dir()[9:11] , read.csv) \n",
    "#Si tienes más archivos en tu carpeta, tienes que colorar indices en el dir()[a:b]"
   ]
  },
  {
   "cell_type": "markdown",
   "metadata": {},
   "source": [
    "2. Las estructuras de de los datas frames"
   ]
  },
  {
   "cell_type": "code",
   "execution_count": 10,
   "metadata": {},
   "outputs": [
    {
     "name": "stdout",
     "output_type": "stream",
     "text": [
      "'data.frame':\t380 obs. of  64 variables:\n",
      " $ Div       : Factor w/ 1 level \"SP1\": 1 1 1 1 1 1 1 1 1 1 ...\n",
      " $ Date      : Factor w/ 137 levels \"01/03/18\",\"01/04/18\",..: 75 75 83 83 83 90 90 90 97 97 ...\n",
      " $ HomeTeam  : Factor w/ 20 levels \"Alaves\",\"Ath Bilbao\",..: 13 19 6 10 17 2 4 11 14 15 ...\n",
      " $ AwayTeam  : Factor w/ 20 levels \"Alaves\",\"Ath Bilbao\",..: 1 12 18 3 8 9 5 16 20 7 ...\n",
      " $ FTHG      : int  1 1 2 2 1 0 2 0 1 0 ...\n",
      " $ FTAG      : int  0 0 3 2 1 0 0 3 0 1 ...\n",
      " $ FTR       : Factor w/ 3 levels \"A\",\"D\",\"H\": 3 3 1 2 2 2 3 1 3 1 ...\n",
      " $ HTHG      : int  1 1 1 2 1 0 2 0 0 0 ...\n",
      " $ HTAG      : int  0 0 1 0 1 0 0 2 0 0 ...\n",
      " $ HTR       : Factor w/ 3 levels \"A\",\"D\",\"H\": 3 3 2 3 2 2 3 1 2 2 ...\n",
      " $ HS        : int  16 22 16 13 9 12 15 12 14 10 ...\n",
      " $ AS        : int  6 5 13 9 9 8 3 16 9 13 ...\n",
      " $ HST       : int  9 6 5 6 4 2 2 6 3 4 ...\n",
      " $ AST       : int  3 4 6 3 6 2 0 8 1 6 ...\n",
      " $ HF        : int  14 25 12 15 14 16 16 16 18 16 ...\n",
      " $ AF        : int  18 13 11 15 12 15 15 12 14 15 ...\n",
      " $ HC        : int  4 5 5 6 7 7 8 4 11 3 ...\n",
      " $ AC        : int  2 2 4 0 3 6 0 4 6 7 ...\n",
      " $ HY        : int  0 3 3 2 2 1 2 5 1 2 ...\n",
      " $ AY        : int  1 3 1 4 4 3 1 1 3 3 ...\n",
      " $ HR        : int  0 0 0 0 1 0 0 0 0 0 ...\n",
      " $ AR        : int  0 1 0 1 0 1 0 1 0 0 ...\n",
      " $ B365H     : num  2.05 1.75 2.38 8 1.62 1.5 1.17 9.5 3.25 2.1 ...\n",
      " $ B365D     : num  3.2 3.8 3.25 4.33 4 4 8 5.75 3.25 3.3 ...\n",
      " $ B365A     : num  4.1 4.5 3.2 1.45 5.5 7.5 15 1.3 2.3 3.7 ...\n",
      " $ BWH       : num  2.05 1.75 2.4 7.5 1.62 1.48 1.18 9.25 3.25 2.15 ...\n",
      " $ BWD       : num  3.1 3.9 3.3 4.33 3.9 4.25 7.5 5.75 3.2 3.3 ...\n",
      " $ BWA       : num  4.1 4.6 3 1.45 5.75 7 14.5 1.3 2.3 3.5 ...\n",
      " $ IWH       : num  2.1 1.75 2.5 7.2 1.55 1.5 1.17 7.5 3.3 2.1 ...\n",
      " $ IWD       : num  3.4 3.6 3.3 4.4 4 4.2 7.5 5.5 3.35 3.4 ...\n",
      " $ IWA       : num  3.5 4.8 2.85 1.45 6.2 6.5 15 1.35 2.2 3.5 ...\n",
      " $ LBH       : num  2.05 1.75 2.35 7.5 1.6 1.5 1.2 9.5 3.25 2.1 ...\n",
      " $ LBD       : num  3 3.8 3.25 4 3.9 4 6.5 5.25 3.1 3.1 ...\n",
      " $ LBA       : num  4.2 4.33 3 1.5 5.5 7 15 1.3 2.3 3.4 ...\n",
      " $ PSH       : num  2.03 1.78 2.44 8.36 1.62 ...\n",
      " $ PSD       : num  3.25 4.01 3.4 4.38 4.17 4.37 7.35 5.79 3.24 3.36 ...\n",
      " $ PSA       : num  4.52 4.83 3.16 1.49 6.18 7.31 15.5 1.33 2.36 3.49 ...\n",
      " $ WHH       : num  2.05 1.8 2.4 8 1.67 1.5 1.22 11 3.1 2.2 ...\n",
      " $ WHD       : num  3.1 3.75 3.4 4.2 3.6 4 6 4.5 3.1 3.3 ...\n",
      " $ WHA       : num  4 4.2 2.9 1.44 5.5 7 13 1.33 2.4 3.3 ...\n",
      " $ VCH       : num  2.05 1.8 2.4 7.5 1.65 1.5 1.2 9.5 3.25 2.15 ...\n",
      " $ VCD       : num  3.2 4 3.4 4.3 4 4.2 7 5.75 3.25 3.3 ...\n",
      " $ VCA       : num  4.4 4.6 3.13 1.5 5.75 7 13 1.3 2.3 3.5 ...\n",
      " $ Bb1X2     : int  35 35 35 35 35 34 35 35 34 34 ...\n",
      " $ BbMxH     : num  2.12 1.83 2.5 8.36 1.69 ...\n",
      " $ BbAvH     : num  2.03 1.77 2.39 7.53 1.63 1.5 1.19 9.68 3.26 2.18 ...\n",
      " $ BbMxD     : num  3.4 4.04 3.5 4.4 4.17 4.4 8 5.86 3.35 3.4 ...\n",
      " $ BbAvD     : num  3.15 3.86 3.32 4.17 3.93 4.17 7.11 5.44 3.17 3.26 ...\n",
      " $ BbMxA     : num  4.52 4.83 3.2 1.51 6.2 7.5 17 1.35 2.4 3.7 ...\n",
      " $ BbAvA     : num  4.17 4.46 3.01 1.48 5.58 ...\n",
      " $ BbOU      : int  31 33 34 34 33 32 27 27 32 32 ...\n",
      " $ BbMx.2.5  : num  2.84 1.69 2.03 2.2 1.81 2.01 1.44 1.5 2.42 2.25 ...\n",
      " $ BbAv.2.5  : num  2.68 1.64 1.98 2.11 1.75 1.94 1.4 1.46 2.36 2.14 ...\n",
      " $ BbMx.2.5.1: num  1.53 2.4 1.9 1.8 2.14 1.96 3.1 2.95 1.63 1.76 ...\n",
      " $ BbAv.2.5.1: num  1.46 2.27 1.84 1.74 2.09 1.87 2.88 2.64 1.58 1.7 ...\n",
      " $ BbAH      : int  18 16 18 16 16 17 17 16 15 17 ...\n",
      " $ BbAHh     : num  -0.5 -0.75 -0.25 1.25 -1 -1 -2 1.5 0.25 -0.25 ...\n",
      " $ BbMxAHH   : num  2.07 2.05 2.08 1.77 2.12 1.9 2.05 2.03 1.93 1.92 ...\n",
      " $ BbAvAHH   : num  2.03 1.97 2.05 1.75 2.06 1.86 2 1.98 1.89 1.88 ...\n",
      " $ BbMxAHA   : num  1.9 1.96 1.87 2.25 1.86 2.05 1.91 1.95 2.03 2.04 ...\n",
      " $ BbAvAHA   : num  1.86 1.91 1.83 2.16 1.82 2.01 1.86 1.89 1.98 1.99 ...\n",
      " $ PSCH      : num  1.98 1.78 2.12 6.93 1.64 1.53 1.2 12.4 3.31 2.2 ...\n",
      " $ PSCD      : num  3.35 4.24 3.53 3.83 4.18 4.48 8.25 7 3.32 3.27 ...\n",
      " $ PSCA      : num  4.63 4.43 3.74 1.63 5.82 6.91 15.2 1.26 2.4 3.85 ...\n",
      "'data.frame':\t380 obs. of  61 variables:\n",
      " $ Div       : Factor w/ 1 level \"SP1\": 1 1 1 1 1 1 1 1 1 1 ...\n",
      " $ Date      : Factor w/ 129 levels \"01/02/2019\",\"01/03/2019\",..: 68 68 74 74 74 78 78 78 82 82 ...\n",
      " $ HomeTeam  : Factor w/ 20 levels \"Alaves\",\"Ath Bilbao\",..: 5 10 4 6 20 7 14 19 2 17 ...\n",
      " $ AwayTeam  : Factor w/ 20 levels \"Alaves\",\"Ath Bilbao\",..: 13 18 1 8 16 11 9 15 12 3 ...\n",
      " $ FTHG      : int  0 0 3 1 1 1 2 1 2 1 ...\n",
      " $ FTAG      : int  3 0 0 1 2 2 0 4 1 1 ...\n",
      " $ FTR       : Factor w/ 3 levels \"A\",\"D\",\"H\": 1 2 3 2 1 1 3 1 3 2 ...\n",
      " $ HTHG      : int  0 0 0 0 1 0 1 0 1 0 ...\n",
      " $ HTAG      : int  1 0 0 1 1 2 0 3 1 1 ...\n",
      " $ HTR       : Factor w/ 3 levels \"A\",\"D\",\"H\": 1 2 2 1 2 1 3 1 2 1 ...\n",
      " $ HS        : int  22 13 25 12 16 18 10 13 17 13 ...\n",
      " $ AS        : int  6 2 3 14 8 8 4 17 12 9 ...\n",
      " $ HST       : int  8 1 9 2 7 6 3 2 5 4 ...\n",
      " $ AST       : int  4 1 0 5 4 6 1 8 2 3 ...\n",
      " $ HF        : int  10 21 6 13 16 12 11 6 12 10 ...\n",
      " $ AF        : int  10 20 13 14 10 13 27 15 13 15 ...\n",
      " $ HC        : int  5 3 7 8 4 7 3 2 6 4 ...\n",
      " $ AC        : int  3 2 1 7 6 0 0 6 2 10 ...\n",
      " $ HY        : int  0 1 0 3 2 1 1 1 4 2 ...\n",
      " $ AY        : int  2 1 2 2 3 1 7 0 5 3 ...\n",
      " $ HR        : int  0 0 0 0 0 0 0 0 0 0 ...\n",
      " $ AR        : int  0 0 0 0 0 0 0 0 0 0 ...\n",
      " $ B365H     : num  1.66 1.75 1.11 1.85 2.04 1.66 1.2 3.25 1.75 3 ...\n",
      " $ B365D     : num  4 3.6 10 3.5 3.4 3.75 7 3.6 3.3 3.2 ...\n",
      " $ B365A     : num  5 5 21 4.5 3.8 5.5 13 2.14 5.5 2.5 ...\n",
      " $ BWH       : num  1.7 1.75 1.11 1.91 2.05 1.7 1.18 3.5 1.78 2.85 ...\n",
      " $ BWD       : num  3.7 3.5 10 3.4 3.3 3.7 7.25 3.5 3.5 3.25 ...\n",
      " $ BWA       : num  5.25 5.25 20 4.25 3.9 5.25 16 2.1 5 2.55 ...\n",
      " $ IWH       : num  1.75 1.8 1.12 1.9 2 1.7 1.2 3.5 1.85 2.85 ...\n",
      " $ IWD       : num  3.6 3.6 9 3.5 3.4 3.75 6.5 3.4 3.5 3.2 ...\n",
      " $ IWA       : num  4.9 4.5 20 4.1 3.8 5 15 2.1 4.4 2.55 ...\n",
      " $ PSH       : num  1.69 1.8 1.11 1.93 2.06 1.72 1.2 3.46 1.79 3.12 ...\n",
      " $ PSD       : num  4.19 3.7 11.27 3.64 3.51 ...\n",
      " $ PSA       : num  5.11 4.99 25.4 4.27 3.91 ...\n",
      " $ WHH       : num  1.67 1.75 1.08 1.91 2.05 1.73 1.22 3.3 1.8 3 ...\n",
      " $ WHD       : num  3.9 3.6 9 3.5 3.3 3.6 6 3.7 3.4 3.2 ...\n",
      " $ WHA       : num  4.75 4.6 29 4 3.6 4.75 13 2.05 4.75 2.4 ...\n",
      " $ VCH       : num  1.67 1.8 1.1 1.93 2.05 1.7 1.2 3.4 1.8 3 ...\n",
      " $ VCD       : num  4.2 3.7 10.5 3.5 3.5 3.8 7 3.6 3.4 3.2 ...\n",
      " $ VCA       : num  5.2 4.8 34 4.4 3.9 5 13 2.1 5 2.45 ...\n",
      " $ Bb1X2     : int  40 40 40 38 40 40 39 40 40 39 ...\n",
      " $ BbMxH     : num  1.75 1.85 1.13 1.97 2.11 1.76 1.24 3.53 1.85 3.12 ...\n",
      " $ BbAvH     : num  1.68 1.78 1.1 1.9 2.03 1.7 1.21 3.38 1.78 2.99 ...\n",
      " $ BbMxD     : num  4.25 3.83 11.5 3.73 3.62 3.93 7.36 3.75 3.64 3.29 ...\n",
      " $ BbAvD     : num  4 3.6 9.82 3.53 3.43 3.77 6.66 3.56 3.43 3.14 ...\n",
      " $ BbMxA     : num  5.25 5.27 41 4.5 3.93 ...\n",
      " $ BbAvA     : num  4.95 4.79 25.67 4.2 3.76 ...\n",
      " $ BbOU      : int  38 38 32 36 37 37 33 37 36 36 ...\n",
      " $ BbMx.2.5  : num  1.82 2.21 1.39 2.13 2.05 1.95 1.5 1.83 2.49 2.45 ...\n",
      " $ BbAv.2.5  : num  1.76 2.13 1.34 2.06 1.99 1.88 1.45 1.76 2.35 2.33 ...\n",
      " $ BbMx.2.5.1: num  2.15 1.78 3.4 1.84 1.88 1.98 2.75 2.13 1.64 1.65 ...\n",
      " $ BbAv.2.5.1: num  2.06 1.71 3.18 1.76 1.81 1.91 2.66 2.04 1.58 1.59 ...\n",
      " $ BbAH      : int  20 20 19 18 18 19 19 19 18 17 ...\n",
      " $ BbAHh     : num  -0.75 -0.75 -2.5 -0.75 -0.25 -0.75 -1.75 0.25 -0.75 0.25 ...\n",
      " $ BbMxAHH   : num  1.89 2.06 1.95 2.26 1.76 1.96 1.85 2.08 2.11 1.82 ...\n",
      " $ BbAvAHH   : num  1.85 2.01 1.91 2.18 1.74 1.91 1.8 2.03 2.04 1.75 ...\n",
      " $ BbMxAHA   : num  2.07 1.9 2 1.74 2.23 2.01 2.15 1.86 1.86 2.23 ...\n",
      " $ BbAvAHA   : num  2 1.85 1.95 1.71 2.14 1.94 2.07 1.83 1.82 2.12 ...\n",
      " $ PSCH      : num  1.59 1.76 1.1 2.18 2.32 1.77 1.19 4.57 1.69 3.55 ...\n",
      " $ PSCD      : num  4.42 3.57 11.85 3.26 3.21 ...\n",
      " $ PSCA      : num  5.89 5.62 32.17 3.85 3.53 ...\n",
      "'data.frame':\t380 obs. of  105 variables:\n",
      " $ Div        : Factor w/ 1 level \"SP1\": 1 1 1 1 1 1 1 1 1 1 ...\n",
      " $ Date       : Factor w/ 116 levels \"01/02/2020\",\"01/03/2020\",..: 56 59 59 59 59 59 62 62 62 62 ...\n",
      " $ Time       : Factor w/ 13 levels \"11:00\",\"12:00\",..: 11 5 7 9 11 11 5 7 11 13 ...\n",
      " $ HomeTeam   : Factor w/ 20 levels \"Alaves\",\"Ath Bilbao\",..: 2 6 18 13 11 20 1 8 5 3 ...\n",
      " $ AwayTeam   : Factor w/ 20 levels \"Alaves\",\"Ath Bilbao\",..: 4 15 17 7 14 10 12 16 19 9 ...\n",
      " $ FTHG       : int  1 1 1 2 0 4 1 0 1 1 ...\n",
      " $ FTAG       : int  0 3 1 1 1 4 0 2 2 0 ...\n",
      " $ FTR        : Factor w/ 3 levels \"A\",\"D\",\"H\": 3 1 2 3 1 2 3 1 1 3 ...\n",
      " $ HTHG       : int  0 0 0 1 0 1 0 0 0 1 ...\n",
      " $ HTAG       : int  0 1 0 0 0 1 0 1 0 0 ...\n",
      " $ HTR        : Factor w/ 3 levels \"A\",\"D\",\"H\": 2 1 2 3 2 2 2 1 2 3 ...\n",
      " $ HS         : int  11 7 14 16 13 12 9 7 13 5 ...\n",
      " $ AS         : int  11 17 12 11 4 14 16 12 14 6 ...\n",
      " $ HST        : int  5 4 6 4 2 7 2 2 4 5 ...\n",
      " $ AST        : int  2 11 3 5 2 7 4 4 3 0 ...\n",
      " $ HF         : int  14 17 13 13 17 10 18 11 11 19 ...\n",
      " $ AF         : int  9 12 14 14 11 16 15 17 19 22 ...\n",
      " $ HC         : int  3 6 3 9 8 2 2 8 6 3 ...\n",
      " $ AC         : int  8 4 3 3 0 7 9 4 1 4 ...\n",
      " $ HY         : int  1 5 4 2 1 3 2 2 2 3 ...\n",
      " $ AY         : int  1 2 4 3 4 1 1 2 6 4 ...\n",
      " $ HR         : int  0 0 1 0 1 0 0 0 1 1 ...\n",
      " $ AR         : int  0 1 0 0 0 0 0 0 0 1 ...\n",
      " $ B365H      : num  5.25 4.75 1.66 2.8 2 1.6 2.15 3.2 1.66 1.44 ...\n",
      " $ B365D      : num  3.8 4.2 3.75 3.2 3.2 3.8 3.2 3.3 3.75 4.33 ...\n",
      " $ B365A      : num  1.65 1.65 5.5 2.6 4.2 6.5 3.6 2.3 5.5 8 ...\n",
      " $ BWH        : num  5.5 4.4 1.67 2.95 2.05 1.6 2.15 3.1 1.65 1.45 ...\n",
      " $ BWD        : num  3.8 4.2 3.75 3.1 3.25 3.8 3.3 3.4 3.75 4.33 ...\n",
      " $ BWA        : num  1.65 1.72 5.5 2.6 3.9 6.25 3.6 2.3 5.75 7.5 ...\n",
      " $ IWH        : num  5 5.3 1.67 2.9 2.05 1.63 2.2 3.1 1.63 1.45 ...\n",
      " $ IWD        : num  3.8 4.2 3.75 3.1 3.1 4 3.25 3.4 3.75 4.4 ...\n",
      " $ IWA        : num  1.7 1.6 5.3 2.6 4.05 5.5 3.4 2.3 5.7 7.2 ...\n",
      " $ PSH        : num  5.15 4.73 1.68 2.98 2.1 1.62 2.29 3.13 1.63 1.49 ...\n",
      " $ PSD        : num  3.84 4.18 3.94 3.14 3.21 3.99 3.31 3.56 3.81 4.34 ...\n",
      " $ PSA        : num  1.74 1.72 5.47 2.66 4.13 6.13 3.45 2.33 6.38 7.58 ...\n",
      " $ WHH        : num  5 5.25 1.67 2.9 2.05 1.6 2.25 3 1.62 1.47 ...\n",
      " $ WHD        : num  3.8 4.2 3.8 3.1 3.2 3.9 3.3 3.5 3.75 4.2 ...\n",
      " $ WHA        : num  1.7 1.6 5.25 2.62 4 5.8 3.3 2.3 6 8 ...\n",
      " $ VCH        : num  5 4.75 1.67 2.9 2.1 1.65 2.25 3 1.62 1.45 ...\n",
      " $ VCD        : num  3.8 4.2 3.9 3.13 3.2 4 3.3 3.5 3.8 4.2 ...\n",
      " $ VCA        : num  1.75 1.73 5.75 2.7 4.1 5.75 3.3 2.3 5.75 8 ...\n",
      " $ MaxH       : num  5.5 5.3 1.72 3.05 2.1 1.65 2.31 3.2 1.67 1.52 ...\n",
      " $ MaxD       : num  3.95 4.4 3.98 3.2 3.3 4.15 3.4 3.56 3.9 4.5 ...\n",
      " $ MaxA       : num  1.76 1.73 5.75 2.7 4.25 6.5 3.6 2.4 6.5 8.5 ...\n",
      " $ AvgH       : num  5.07 4.67 1.68 2.91 2.06 1.61 2.23 3.08 1.64 1.47 ...\n",
      " $ AvgD       : num  3.81 4.12 3.8 3.09 3.18 3.95 3.25 3.41 3.76 4.23 ...\n",
      " $ AvgA       : num  1.71 1.69 5.29 2.62 4.02 5.8 3.43 2.33 5.78 7.63 ...\n",
      " $ B365.2.5   : num  1.8 1.53 2 2.3 2.5 1.8 2.1 1.9 2.1 2.2 ...\n",
      " $ B365.2.5.1 : num  2 2.5 1.8 1.61 1.53 2 1.72 1.9 1.72 1.66 ...\n",
      " $ P.2.5      : num  1.81 1.52 2.08 2.45 2.72 1.88 2.16 1.95 2.16 2.3 ...\n",
      " $ P.2.5.1    : num  2.09 2.66 1.82 1.6 1.5 2.02 1.76 1.95 1.76 1.68 ...\n",
      " $ Max.2.5    : num  1.85 1.53 2.14 2.47 2.75 1.9 2.2 1.98 2.21 2.3 ...\n",
      " $ Max.2.5.1  : num  2.11 2.72 1.83 1.65 1.54 2.05 1.77 1.95 1.78 1.71 ...\n",
      " $ Avg.2.5    : num  1.79 1.49 2.07 2.34 2.59 1.84 2.13 1.92 2.13 2.23 ...\n",
      " $ Avg.2.5.1  : num  2.05 2.58 1.77 1.6 1.49 1.98 1.72 1.89 1.72 1.66 ...\n",
      " $ AHh        : num  0.75 0.75 -0.75 0 -0.5 -1 -0.25 0.25 -0.75 -1 ...\n",
      " $ B365AHH    : num  1.99 2.04 1.91 2.05 2.08 2.05 1.95 1.88 1.86 1.88 ...\n",
      " $ B365AHA    : num  1.94 1.89 2.02 1.88 1.85 1.75 1.98 2.05 2.07 2.05 ...\n",
      " $ PAHH       : num  1.98 2.01 1.91 2.07 2.1 2.11 1.96 1.9 1.84 1.88 ...\n",
      " $ PAHA       : num  1.94 1.91 2.01 1.85 1.82 1.81 1.96 2.02 2.08 2.04 ...\n",
      " $ MaxAHH     : num  2 2.05 1.93 2.07 2.1 2.14 1.97 1.9 1.87 1.89 ...\n",
      " $ MaxAHA     : num  1.95 1.91 2.03 1.88 1.85 1.85 1.99 2.06 2.08 2.08 ...\n",
      " $ AvgAHH     : num  1.96 2 1.89 2.04 2.06 2.07 1.93 1.87 1.83 1.85 ...\n",
      " $ AvgAHA     : num  1.92 1.88 1.99 1.85 1.83 1.8 1.95 2.01 2.06 2.03 ...\n",
      " $ B365CH     : num  5.25 5.25 1.66 2.87 1.9 1.53 2.3 3 1.8 1.5 ...\n",
      " $ B365CD     : num  3.8 4.2 3.75 3.2 3.1 4 3.4 3.4 3.6 4 ...\n",
      " $ B365CA     : num  1.65 1.57 5.5 2.55 5 6.5 3.2 2.4 4.75 8 ...\n",
      " $ BWCH       : num  4.75 4.5 1.65 2.95 1.95 1.57 2.35 3 1.8 1.5 ...\n",
      " $ BWCD       : num  3.75 4.1 3.8 3.1 3.2 3.8 3.2 3.4 3.4 3.9 ...\n",
      " $ BWCA       : num  1.75 1.7 5.5 2.6 4.5 6.5 3.2 2.35 5 7.75 ...\n",
      " $ IWCH       : num  5 4.6 1.67 2.9 1.9 1.55 2.35 3 1.85 1.5 ...\n",
      " $ IWCD       : num  3.8 3.8 3.8 3.1 3.15 4.05 3.25 3.35 3.55 3.9 ...\n",
      " $ IWCA       : num  1.7 1.75 5.3 2.6 4.85 6.3 3.15 2.35 4.4 7.6 ...\n",
      " $ PSCH       : num  5.34 5.1 1.69 2.96 1.9 1.54 2.43 3.13 1.82 1.57 ...\n",
      " $ PSCD       : num  3.62 4.46 3.88 3.26 3.18 4.19 3.27 3.38 3.53 3.78 ...\n",
      " $ PSCA       : num  1.78 1.65 5.47 2.6 5.3 6.87 3.2 2.41 5.07 7.66 ...\n",
      " $ WHCH       : num  5 5 1.65 2.9 2.05 1.62 2.25 3 1.78 1.5 ...\n",
      " $ WHCD       : num  3.8 4.2 3.9 3.1 3.2 3.9 3.3 3.4 3.5 3.8 ...\n",
      " $ WHCA       : num  1.7 1.63 5.25 2.6 4 5.8 3.3 2.35 5 8 ...\n",
      " $ VCCH       : num  4.8 5.2 1.7 3 1.9 1.57 2.45 3.13 1.87 1.55 ...\n",
      " $ VCCD       : num  3.8 4.4 3.9 3.13 3.2 4 3.3 3.4 3.5 3.9 ...\n",
      " $ VCCA       : num  1.8 1.65 5.5 2.63 5.2 7 3.13 2.4 4.6 8 ...\n",
      " $ MaxCH      : num  5.8 6 1.72 3.05 1.95 1.58 2.46 3.38 1.87 1.58 ...\n",
      " $ MaxCD      : num  3.9 4.52 3.95 3.29 3.26 4.2 3.42 3.47 3.65 4.05 ...\n",
      " $ MaxCA      : num  1.81 1.75 6.2 2.72 5.3 7.3 3.58 2.48 5.35 8.9 ...\n",
      " $ AvgCH      : num  5.03 4.93 1.68 2.93 1.9 1.54 2.37 3.05 1.83 1.53 ...\n",
      " $ AvgCD      : num  3.66 4.26 3.82 3.14 3.16 4.05 3.25 3.34 3.5 3.84 ...\n",
      " $ AvgCA      : num  1.76 1.65 5.37 2.59 4.91 6.66 3.18 2.39 4.74 7.68 ...\n",
      " $ B365C.2.5  : num  1.9 1.44 2 2.2 2.75 1.9 2.1 2 2 2.37 ...\n",
      " $ B365C.2.5.1: num  1.9 2.75 1.8 1.66 1.44 1.9 1.72 1.8 1.8 1.57 ...\n",
      " $ PC.2.5     : num  1.98 1.49 2.06 2.2 2.84 1.95 2.18 2.04 2.03 2.43 ...\n",
      " $ PC.2.5.1   : num  1.93 2.76 1.85 1.74 1.47 1.95 1.75 1.85 1.87 1.61 ...\n",
      " $ MaxC.2.5   : num  1.99 1.51 2.08 2.38 2.85 1.98 2.18 2.09 2.07 2.46 ...\n",
      " $ MaxC.2.5.1 : num  2.11 2.88 1.98 1.74 1.5 2.1 1.83 2.05 1.92 1.65 ...\n",
      " $ AvgC.2.5   : num  1.86 1.47 2 2.24 2.69 1.9 2.1 1.97 1.99 2.36 ...\n",
      " $ AvgC.2.5.1 : num  1.97 2.63 1.82 1.66 1.46 1.92 1.74 1.85 1.83 1.59 ...\n",
      " $ AHCh       : num  0.75 1 -0.75 0 -0.5 -1 -0.25 0.25 -0.75 -1 ...\n",
      " $ B365CAHH   : num  1.93 1.82 1.94 2.11 1.89 1.96 2.08 1.86 2.02 2.06 ...\n",
      " $ B365CAHA   : num  2 1.97 1.99 1.82 2.04 1.97 1.85 2.07 1.77 1.87 ...\n",
      "  [list output truncated]\n"
     ]
    },
    {
     "data": {
      "text/html": [
       "<ol>\n",
       "\t<li>NULL</li>\n",
       "\t<li>NULL</li>\n",
       "\t<li>NULL</li>\n",
       "</ol>\n"
      ],
      "text/latex": [
       "\\begin{enumerate}\n",
       "\\item NULL\n",
       "\\item NULL\n",
       "\\item NULL\n",
       "\\end{enumerate}\n"
      ],
      "text/markdown": [
       "1. NULL\n",
       "2. NULL\n",
       "3. NULL\n",
       "\n",
       "\n"
      ],
      "text/plain": [
       "[[1]]\n",
       "NULL\n",
       "\n",
       "[[2]]\n",
       "NULL\n",
       "\n",
       "[[3]]\n",
       "NULL\n"
      ]
     },
     "metadata": {},
     "output_type": "display_data"
    },
    {
     "data": {
      "text/html": [
       "<ol>\n",
       "\t<li><table>\n",
       "<thead><tr><th scope=col>Div</th><th scope=col>Date</th><th scope=col>HomeTeam</th><th scope=col>AwayTeam</th><th scope=col>FTHG</th><th scope=col>FTAG</th><th scope=col>FTR</th><th scope=col>HTHG</th><th scope=col>HTAG</th><th scope=col>HTR</th><th scope=col>...</th><th scope=col>BbAv.2.5.1</th><th scope=col>BbAH</th><th scope=col>BbAHh</th><th scope=col>BbMxAHH</th><th scope=col>BbAvAHH</th><th scope=col>BbMxAHA</th><th scope=col>BbAvAHA</th><th scope=col>PSCH</th><th scope=col>PSCD</th><th scope=col>PSCA</th></tr></thead>\n",
       "<tbody>\n",
       "\t<tr><td>SP1       </td><td>18/08/17  </td><td>Leganes   </td><td>Alaves    </td><td>1         </td><td>0         </td><td>H         </td><td>1         </td><td>0         </td><td>H         </td><td>...       </td><td>1.46      </td><td>18        </td><td>-0.50     </td><td>2.07      </td><td>2.03      </td><td>1.90      </td><td>1.86      </td><td>1.98      </td><td>3.35      </td><td>4.63      </td></tr>\n",
       "\t<tr><td>SP1       </td><td>18/08/17  </td><td>Valencia  </td><td>Las Palmas</td><td>1         </td><td>0         </td><td>H         </td><td>1         </td><td>0         </td><td>H         </td><td>...       </td><td>2.27      </td><td>16        </td><td>-0.75     </td><td>2.05      </td><td>1.97      </td><td>1.96      </td><td>1.91      </td><td>1.78      </td><td>4.24      </td><td>4.43      </td></tr>\n",
       "\t<tr><td>SP1       </td><td>19/08/17  </td><td>Celta     </td><td>Sociedad  </td><td>2         </td><td>3         </td><td>A         </td><td>1         </td><td>1         </td><td>D         </td><td>...       </td><td>1.84      </td><td>18        </td><td>-0.25     </td><td>2.08      </td><td>2.05      </td><td>1.87      </td><td>1.83      </td><td>2.12      </td><td>3.53      </td><td>3.74      </td></tr>\n",
       "\t<tr><td>SP1       </td><td>19/08/17  </td><td>Girona    </td><td>Ath Madrid</td><td>2         </td><td>2         </td><td>D         </td><td>2         </td><td>0         </td><td>H         </td><td>...       </td><td>1.74      </td><td>16        </td><td> 1.25     </td><td>1.77      </td><td>1.75      </td><td>2.25      </td><td>2.16      </td><td>6.93      </td><td>3.83      </td><td>1.63      </td></tr>\n",
       "\t<tr><td>SP1       </td><td>19/08/17  </td><td>Sevilla   </td><td>Espanol   </td><td>1         </td><td>1         </td><td>D         </td><td>1         </td><td>1         </td><td>D         </td><td>...       </td><td>2.09      </td><td>16        </td><td>-1.00     </td><td>2.12      </td><td>2.06      </td><td>1.86      </td><td>1.82      </td><td>1.64      </td><td>4.18      </td><td>5.82      </td></tr>\n",
       "\t<tr><td>SP1       </td><td>20/08/17  </td><td>Ath Bilbao</td><td>Getafe    </td><td>0         </td><td>0         </td><td>D         </td><td>0         </td><td>0         </td><td>D         </td><td>...       </td><td>1.87      </td><td>17        </td><td>-1.00     </td><td>1.90      </td><td>1.86      </td><td>2.05      </td><td>2.01      </td><td>1.53      </td><td>4.48      </td><td>6.91      </td></tr>\n",
       "</tbody>\n",
       "</table>\n",
       "</li>\n",
       "\t<li><table>\n",
       "<thead><tr><th scope=col>Div</th><th scope=col>Date</th><th scope=col>HomeTeam</th><th scope=col>AwayTeam</th><th scope=col>FTHG</th><th scope=col>FTAG</th><th scope=col>FTR</th><th scope=col>HTHG</th><th scope=col>HTAG</th><th scope=col>HTR</th><th scope=col>...</th><th scope=col>BbAv.2.5.1</th><th scope=col>BbAH</th><th scope=col>BbAHh</th><th scope=col>BbMxAHH</th><th scope=col>BbAvAHH</th><th scope=col>BbMxAHA</th><th scope=col>BbAvAHA</th><th scope=col>PSCH</th><th scope=col>PSCD</th><th scope=col>PSCA</th></tr></thead>\n",
       "<tbody>\n",
       "\t<tr><td>SP1       </td><td>17/08/2018</td><td>Betis     </td><td>Levante   </td><td>0         </td><td>3         </td><td>A         </td><td>0         </td><td>1         </td><td>A         </td><td>...       </td><td>2.06      </td><td>20        </td><td>-0.75     </td><td>1.89      </td><td>1.85      </td><td>2.07      </td><td>2.00      </td><td>1.59      </td><td> 4.42     </td><td> 5.89     </td></tr>\n",
       "\t<tr><td>SP1       </td><td>17/08/2018</td><td>Girona    </td><td>Valladolid</td><td>0         </td><td>0         </td><td>D         </td><td>0         </td><td>0         </td><td>D         </td><td>...       </td><td>1.71      </td><td>20        </td><td>-0.75     </td><td>2.06      </td><td>2.01      </td><td>1.90      </td><td>1.85      </td><td>1.76      </td><td> 3.57     </td><td> 5.62     </td></tr>\n",
       "\t<tr><td>SP1       </td><td>18/08/2018</td><td>Barcelona </td><td>Alaves    </td><td>3         </td><td>0         </td><td>H         </td><td>0         </td><td>0         </td><td>D         </td><td>...       </td><td>3.18      </td><td>19        </td><td>-2.50     </td><td>1.95      </td><td>1.91      </td><td>2.00      </td><td>1.95      </td><td>1.10      </td><td>11.85     </td><td>32.17     </td></tr>\n",
       "\t<tr><td>SP1       </td><td>18/08/2018</td><td>Celta     </td><td>Espanol   </td><td>1         </td><td>1         </td><td>D         </td><td>0         </td><td>1         </td><td>A         </td><td>...       </td><td>1.76      </td><td>18        </td><td>-0.75     </td><td>2.26      </td><td>2.18      </td><td>1.74      </td><td>1.71      </td><td>2.18      </td><td> 3.26     </td><td> 3.85     </td></tr>\n",
       "\t<tr><td>SP1       </td><td>18/08/2018</td><td>Villarreal</td><td>Sociedad  </td><td>1         </td><td>2         </td><td>A         </td><td>1         </td><td>1         </td><td>D         </td><td>...       </td><td>1.81      </td><td>18        </td><td>-0.25     </td><td>1.76      </td><td>1.74      </td><td>2.23      </td><td>2.14      </td><td>2.32      </td><td> 3.21     </td><td> 3.53     </td></tr>\n",
       "\t<tr><td>SP1       </td><td>19/08/2018</td><td>Eibar     </td><td>Huesca    </td><td>1         </td><td>2         </td><td>A         </td><td>0         </td><td>2         </td><td>A         </td><td>...       </td><td>1.91      </td><td>19        </td><td>-0.75     </td><td>1.96      </td><td>1.91      </td><td>2.01      </td><td>1.94      </td><td>1.77      </td><td> 3.68     </td><td> 5.32     </td></tr>\n",
       "</tbody>\n",
       "</table>\n",
       "</li>\n",
       "\t<li><table>\n",
       "<thead><tr><th scope=col>Div</th><th scope=col>Date</th><th scope=col>Time</th><th scope=col>HomeTeam</th><th scope=col>AwayTeam</th><th scope=col>FTHG</th><th scope=col>FTAG</th><th scope=col>FTR</th><th scope=col>HTHG</th><th scope=col>HTAG</th><th scope=col>...</th><th scope=col>AvgC.2.5.1</th><th scope=col>AHCh</th><th scope=col>B365CAHH</th><th scope=col>B365CAHA</th><th scope=col>PCAHH</th><th scope=col>PCAHA</th><th scope=col>MaxCAHH</th><th scope=col>MaxCAHA</th><th scope=col>AvgCAHH</th><th scope=col>AvgCAHA</th></tr></thead>\n",
       "<tbody>\n",
       "\t<tr><td>SP1        </td><td>16/08/2019 </td><td>20:00      </td><td>Ath Bilbao </td><td>Barcelona  </td><td>1          </td><td>0          </td><td>H          </td><td>0          </td><td>0          </td><td>...        </td><td>1.97       </td><td> 0.75      </td><td>1.93       </td><td>2.00       </td><td>1.91       </td><td>2.01       </td><td>2.02       </td><td>2.03       </td><td>1.91       </td><td>1.98       </td></tr>\n",
       "\t<tr><td>SP1        </td><td>17/08/2019 </td><td>16:00      </td><td>Celta      </td><td>Real Madrid</td><td>1          </td><td>3          </td><td>A          </td><td>0          </td><td>1          </td><td>...        </td><td>2.63       </td><td> 1.00      </td><td>1.82       </td><td>1.97       </td><td>1.85       </td><td>2.07       </td><td>2.00       </td><td>2.20       </td><td>1.82       </td><td>2.06       </td></tr>\n",
       "\t<tr><td>SP1        </td><td>17/08/2019 </td><td>18:00      </td><td>Valencia   </td><td>Sociedad   </td><td>1          </td><td>1          </td><td>D          </td><td>0          </td><td>0          </td><td>...        </td><td>1.82       </td><td>-0.75      </td><td>1.94       </td><td>1.99       </td><td>1.92       </td><td>2.00       </td><td>1.96       </td><td>2.12       </td><td>1.89       </td><td>2.00       </td></tr>\n",
       "\t<tr><td>SP1        </td><td>17/08/2019 </td><td>19:00      </td><td>Mallorca   </td><td>Eibar      </td><td>2          </td><td>1          </td><td>H          </td><td>1          </td><td>0          </td><td>...        </td><td>1.66       </td><td> 0.00      </td><td>2.11       </td><td>1.82       </td><td>2.09       </td><td>1.83       </td><td>2.12       </td><td>1.88       </td><td>2.07       </td><td>1.83       </td></tr>\n",
       "\t<tr><td>SP1        </td><td>17/08/2019 </td><td>20:00      </td><td>Leganes    </td><td>Osasuna    </td><td>0          </td><td>1          </td><td>A          </td><td>0          </td><td>0          </td><td>...        </td><td>1.46       </td><td>-0.50      </td><td>1.89       </td><td>2.04       </td><td>1.90       </td><td>2.01       </td><td>1.95       </td><td>2.06       </td><td>1.90       </td><td>1.99       </td></tr>\n",
       "\t<tr><td>SP1        </td><td>17/08/2019 </td><td>20:00      </td><td>Villarreal </td><td>Granada    </td><td>4          </td><td>4          </td><td>D          </td><td>1          </td><td>1          </td><td>...        </td><td>1.92       </td><td>-1.00      </td><td>1.96       </td><td>1.97       </td><td>1.96       </td><td>1.96       </td><td>1.98       </td><td>2.12       </td><td>1.93       </td><td>1.95       </td></tr>\n",
       "</tbody>\n",
       "</table>\n",
       "</li>\n",
       "</ol>\n"
      ],
      "text/latex": [
       "\\begin{enumerate}\n",
       "\\item \\begin{tabular}{r|llllllllllllllllllllllllllllllllllllllllllllllllllllllllllllllll}\n",
       " Div & Date & HomeTeam & AwayTeam & FTHG & FTAG & FTR & HTHG & HTAG & HTR & ... & BbAv.2.5.1 & BbAH & BbAHh & BbMxAHH & BbAvAHH & BbMxAHA & BbAvAHA & PSCH & PSCD & PSCA\\\\\n",
       "\\hline\n",
       "\t SP1        & 18/08/17   & Leganes    & Alaves     & 1          & 0          & H          & 1          & 0          & H          & ...        & 1.46       & 18         & -0.50      & 2.07       & 2.03       & 1.90       & 1.86       & 1.98       & 3.35       & 4.63      \\\\\n",
       "\t SP1        & 18/08/17   & Valencia   & Las Palmas & 1          & 0          & H          & 1          & 0          & H          & ...        & 2.27       & 16         & -0.75      & 2.05       & 1.97       & 1.96       & 1.91       & 1.78       & 4.24       & 4.43      \\\\\n",
       "\t SP1        & 19/08/17   & Celta      & Sociedad   & 2          & 3          & A          & 1          & 1          & D          & ...        & 1.84       & 18         & -0.25      & 2.08       & 2.05       & 1.87       & 1.83       & 2.12       & 3.53       & 3.74      \\\\\n",
       "\t SP1        & 19/08/17   & Girona     & Ath Madrid & 2          & 2          & D          & 2          & 0          & H          & ...        & 1.74       & 16         &  1.25      & 1.77       & 1.75       & 2.25       & 2.16       & 6.93       & 3.83       & 1.63      \\\\\n",
       "\t SP1        & 19/08/17   & Sevilla    & Espanol    & 1          & 1          & D          & 1          & 1          & D          & ...        & 2.09       & 16         & -1.00      & 2.12       & 2.06       & 1.86       & 1.82       & 1.64       & 4.18       & 5.82      \\\\\n",
       "\t SP1        & 20/08/17   & Ath Bilbao & Getafe     & 0          & 0          & D          & 0          & 0          & D          & ...        & 1.87       & 17         & -1.00      & 1.90       & 1.86       & 2.05       & 2.01       & 1.53       & 4.48       & 6.91      \\\\\n",
       "\\end{tabular}\n",
       "\n",
       "\\item \\begin{tabular}{r|lllllllllllllllllllllllllllllllllllllllllllllllllllllllllllll}\n",
       " Div & Date & HomeTeam & AwayTeam & FTHG & FTAG & FTR & HTHG & HTAG & HTR & ... & BbAv.2.5.1 & BbAH & BbAHh & BbMxAHH & BbAvAHH & BbMxAHA & BbAvAHA & PSCH & PSCD & PSCA\\\\\n",
       "\\hline\n",
       "\t SP1        & 17/08/2018 & Betis      & Levante    & 0          & 3          & A          & 0          & 1          & A          & ...        & 2.06       & 20         & -0.75      & 1.89       & 1.85       & 2.07       & 2.00       & 1.59       &  4.42      &  5.89     \\\\\n",
       "\t SP1        & 17/08/2018 & Girona     & Valladolid & 0          & 0          & D          & 0          & 0          & D          & ...        & 1.71       & 20         & -0.75      & 2.06       & 2.01       & 1.90       & 1.85       & 1.76       &  3.57      &  5.62     \\\\\n",
       "\t SP1        & 18/08/2018 & Barcelona  & Alaves     & 3          & 0          & H          & 0          & 0          & D          & ...        & 3.18       & 19         & -2.50      & 1.95       & 1.91       & 2.00       & 1.95       & 1.10       & 11.85      & 32.17     \\\\\n",
       "\t SP1        & 18/08/2018 & Celta      & Espanol    & 1          & 1          & D          & 0          & 1          & A          & ...        & 1.76       & 18         & -0.75      & 2.26       & 2.18       & 1.74       & 1.71       & 2.18       &  3.26      &  3.85     \\\\\n",
       "\t SP1        & 18/08/2018 & Villarreal & Sociedad   & 1          & 2          & A          & 1          & 1          & D          & ...        & 1.81       & 18         & -0.25      & 1.76       & 1.74       & 2.23       & 2.14       & 2.32       &  3.21      &  3.53     \\\\\n",
       "\t SP1        & 19/08/2018 & Eibar      & Huesca     & 1          & 2          & A          & 0          & 2          & A          & ...        & 1.91       & 19         & -0.75      & 1.96       & 1.91       & 2.01       & 1.94       & 1.77       &  3.68      &  5.32     \\\\\n",
       "\\end{tabular}\n",
       "\n",
       "\\item \\begin{tabular}{r|lllllllllllllllllllllllllllllllllllllllllllllllllllllllllllllllllllllllllllllllllllllllllllllllllllllllll}\n",
       " Div & Date & Time & HomeTeam & AwayTeam & FTHG & FTAG & FTR & HTHG & HTAG & ... & AvgC.2.5.1 & AHCh & B365CAHH & B365CAHA & PCAHH & PCAHA & MaxCAHH & MaxCAHA & AvgCAHH & AvgCAHA\\\\\n",
       "\\hline\n",
       "\t SP1         & 16/08/2019  & 20:00       & Ath Bilbao  & Barcelona   & 1           & 0           & H           & 0           & 0           & ...         & 1.97        &  0.75       & 1.93        & 2.00        & 1.91        & 2.01        & 2.02        & 2.03        & 1.91        & 1.98       \\\\\n",
       "\t SP1         & 17/08/2019  & 16:00       & Celta       & Real Madrid & 1           & 3           & A           & 0           & 1           & ...         & 2.63        &  1.00       & 1.82        & 1.97        & 1.85        & 2.07        & 2.00        & 2.20        & 1.82        & 2.06       \\\\\n",
       "\t SP1         & 17/08/2019  & 18:00       & Valencia    & Sociedad    & 1           & 1           & D           & 0           & 0           & ...         & 1.82        & -0.75       & 1.94        & 1.99        & 1.92        & 2.00        & 1.96        & 2.12        & 1.89        & 2.00       \\\\\n",
       "\t SP1         & 17/08/2019  & 19:00       & Mallorca    & Eibar       & 2           & 1           & H           & 1           & 0           & ...         & 1.66        &  0.00       & 2.11        & 1.82        & 2.09        & 1.83        & 2.12        & 1.88        & 2.07        & 1.83       \\\\\n",
       "\t SP1         & 17/08/2019  & 20:00       & Leganes     & Osasuna     & 0           & 1           & A           & 0           & 0           & ...         & 1.46        & -0.50       & 1.89        & 2.04        & 1.90        & 2.01        & 1.95        & 2.06        & 1.90        & 1.99       \\\\\n",
       "\t SP1         & 17/08/2019  & 20:00       & Villarreal  & Granada     & 4           & 4           & D           & 1           & 1           & ...         & 1.92        & -1.00       & 1.96        & 1.97        & 1.96        & 1.96        & 1.98        & 2.12        & 1.93        & 1.95       \\\\\n",
       "\\end{tabular}\n",
       "\n",
       "\\end{enumerate}\n"
      ],
      "text/markdown": [
       "1. \n",
       "| Div | Date | HomeTeam | AwayTeam | FTHG | FTAG | FTR | HTHG | HTAG | HTR | ... | BbAv.2.5.1 | BbAH | BbAHh | BbMxAHH | BbAvAHH | BbMxAHA | BbAvAHA | PSCH | PSCD | PSCA |\n",
       "|---|---|---|---|---|---|---|---|---|---|---|---|---|---|---|---|---|---|---|---|---|\n",
       "| SP1        | 18/08/17   | Leganes    | Alaves     | 1          | 0          | H          | 1          | 0          | H          | ...        | 1.46       | 18         | -0.50      | 2.07       | 2.03       | 1.90       | 1.86       | 1.98       | 3.35       | 4.63       |\n",
       "| SP1        | 18/08/17   | Valencia   | Las Palmas | 1          | 0          | H          | 1          | 0          | H          | ...        | 2.27       | 16         | -0.75      | 2.05       | 1.97       | 1.96       | 1.91       | 1.78       | 4.24       | 4.43       |\n",
       "| SP1        | 19/08/17   | Celta      | Sociedad   | 2          | 3          | A          | 1          | 1          | D          | ...        | 1.84       | 18         | -0.25      | 2.08       | 2.05       | 1.87       | 1.83       | 2.12       | 3.53       | 3.74       |\n",
       "| SP1        | 19/08/17   | Girona     | Ath Madrid | 2          | 2          | D          | 2          | 0          | H          | ...        | 1.74       | 16         |  1.25      | 1.77       | 1.75       | 2.25       | 2.16       | 6.93       | 3.83       | 1.63       |\n",
       "| SP1        | 19/08/17   | Sevilla    | Espanol    | 1          | 1          | D          | 1          | 1          | D          | ...        | 2.09       | 16         | -1.00      | 2.12       | 2.06       | 1.86       | 1.82       | 1.64       | 4.18       | 5.82       |\n",
       "| SP1        | 20/08/17   | Ath Bilbao | Getafe     | 0          | 0          | D          | 0          | 0          | D          | ...        | 1.87       | 17         | -1.00      | 1.90       | 1.86       | 2.05       | 2.01       | 1.53       | 4.48       | 6.91       |\n",
       "\n",
       "\n",
       "2. \n",
       "| Div | Date | HomeTeam | AwayTeam | FTHG | FTAG | FTR | HTHG | HTAG | HTR | ... | BbAv.2.5.1 | BbAH | BbAHh | BbMxAHH | BbAvAHH | BbMxAHA | BbAvAHA | PSCH | PSCD | PSCA |\n",
       "|---|---|---|---|---|---|---|---|---|---|---|---|---|---|---|---|---|---|---|---|---|\n",
       "| SP1        | 17/08/2018 | Betis      | Levante    | 0          | 3          | A          | 0          | 1          | A          | ...        | 2.06       | 20         | -0.75      | 1.89       | 1.85       | 2.07       | 2.00       | 1.59       |  4.42      |  5.89      |\n",
       "| SP1        | 17/08/2018 | Girona     | Valladolid | 0          | 0          | D          | 0          | 0          | D          | ...        | 1.71       | 20         | -0.75      | 2.06       | 2.01       | 1.90       | 1.85       | 1.76       |  3.57      |  5.62      |\n",
       "| SP1        | 18/08/2018 | Barcelona  | Alaves     | 3          | 0          | H          | 0          | 0          | D          | ...        | 3.18       | 19         | -2.50      | 1.95       | 1.91       | 2.00       | 1.95       | 1.10       | 11.85      | 32.17      |\n",
       "| SP1        | 18/08/2018 | Celta      | Espanol    | 1          | 1          | D          | 0          | 1          | A          | ...        | 1.76       | 18         | -0.75      | 2.26       | 2.18       | 1.74       | 1.71       | 2.18       |  3.26      |  3.85      |\n",
       "| SP1        | 18/08/2018 | Villarreal | Sociedad   | 1          | 2          | A          | 1          | 1          | D          | ...        | 1.81       | 18         | -0.25      | 1.76       | 1.74       | 2.23       | 2.14       | 2.32       |  3.21      |  3.53      |\n",
       "| SP1        | 19/08/2018 | Eibar      | Huesca     | 1          | 2          | A          | 0          | 2          | A          | ...        | 1.91       | 19         | -0.75      | 1.96       | 1.91       | 2.01       | 1.94       | 1.77       |  3.68      |  5.32      |\n",
       "\n",
       "\n",
       "3. \n",
       "| Div | Date | Time | HomeTeam | AwayTeam | FTHG | FTAG | FTR | HTHG | HTAG | ... | AvgC.2.5.1 | AHCh | B365CAHH | B365CAHA | PCAHH | PCAHA | MaxCAHH | MaxCAHA | AvgCAHH | AvgCAHA |\n",
       "|---|---|---|---|---|---|---|---|---|---|---|---|---|---|---|---|---|---|---|---|---|\n",
       "| SP1         | 16/08/2019  | 20:00       | Ath Bilbao  | Barcelona   | 1           | 0           | H           | 0           | 0           | ...         | 1.97        |  0.75       | 1.93        | 2.00        | 1.91        | 2.01        | 2.02        | 2.03        | 1.91        | 1.98        |\n",
       "| SP1         | 17/08/2019  | 16:00       | Celta       | Real Madrid | 1           | 3           | A           | 0           | 1           | ...         | 2.63        |  1.00       | 1.82        | 1.97        | 1.85        | 2.07        | 2.00        | 2.20        | 1.82        | 2.06        |\n",
       "| SP1         | 17/08/2019  | 18:00       | Valencia    | Sociedad    | 1           | 1           | D           | 0           | 0           | ...         | 1.82        | -0.75       | 1.94        | 1.99        | 1.92        | 2.00        | 1.96        | 2.12        | 1.89        | 2.00        |\n",
       "| SP1         | 17/08/2019  | 19:00       | Mallorca    | Eibar       | 2           | 1           | H           | 1           | 0           | ...         | 1.66        |  0.00       | 2.11        | 1.82        | 2.09        | 1.83        | 2.12        | 1.88        | 2.07        | 1.83        |\n",
       "| SP1         | 17/08/2019  | 20:00       | Leganes     | Osasuna     | 0           | 1           | A           | 0           | 0           | ...         | 1.46        | -0.50       | 1.89        | 2.04        | 1.90        | 2.01        | 1.95        | 2.06        | 1.90        | 1.99        |\n",
       "| SP1         | 17/08/2019  | 20:00       | Villarreal  | Granada     | 4           | 4           | D           | 1           | 1           | ...         | 1.92        | -1.00       | 1.96        | 1.97        | 1.96        | 1.96        | 1.98        | 2.12        | 1.93        | 1.95        |\n",
       "\n",
       "\n",
       "\n",
       "\n"
      ],
      "text/plain": [
       "[[1]]\n",
       "  Div     Date   HomeTeam   AwayTeam FTHG FTAG FTR HTHG HTAG HTR HS AS HST AST\n",
       "1 SP1 18/08/17    Leganes     Alaves    1    0   H    1    0   H 16  6   9   3\n",
       "2 SP1 18/08/17   Valencia Las Palmas    1    0   H    1    0   H 22  5   6   4\n",
       "3 SP1 19/08/17      Celta   Sociedad    2    3   A    1    1   D 16 13   5   6\n",
       "4 SP1 19/08/17     Girona Ath Madrid    2    2   D    2    0   H 13  9   6   3\n",
       "5 SP1 19/08/17    Sevilla    Espanol    1    1   D    1    1   D  9  9   4   6\n",
       "6 SP1 20/08/17 Ath Bilbao     Getafe    0    0   D    0    0   D 12  8   2   2\n",
       "  HF AF HC AC HY AY HR AR B365H B365D B365A  BWH  BWD  BWA  IWH IWD  IWA  LBH\n",
       "1 14 18  4  2  0  1  0  0  2.05  3.20  4.10 2.05 3.10 4.10 2.10 3.4 3.50 2.05\n",
       "2 25 13  5  2  3  3  0  1  1.75  3.80  4.50 1.75 3.90 4.60 1.75 3.6 4.80 1.75\n",
       "3 12 11  5  4  3  1  0  0  2.38  3.25  3.20 2.40 3.30 3.00 2.50 3.3 2.85 2.35\n",
       "4 15 15  6  0  2  4  0  1  8.00  4.33  1.45 7.50 4.33 1.45 7.20 4.4 1.45 7.50\n",
       "5 14 12  7  3  2  4  1  0  1.62  4.00  5.50 1.62 3.90 5.75 1.55 4.0 6.20 1.60\n",
       "6 16 15  7  6  1  3  0  1  1.50  4.00  7.50 1.48 4.25 7.00 1.50 4.2 6.50 1.50\n",
       "   LBD  LBA  PSH  PSD  PSA  WHH  WHD  WHA  VCH VCD  VCA Bb1X2 BbMxH BbAvH BbMxD\n",
       "1 3.00 4.20 2.03 3.25 4.52 2.05 3.10 4.00 2.05 3.2 4.40    35  2.12  2.03  3.40\n",
       "2 3.80 4.33 1.78 4.01 4.83 1.80 3.75 4.20 1.80 4.0 4.60    35  1.83  1.77  4.04\n",
       "3 3.25 3.00 2.44 3.40 3.16 2.40 3.40 2.90 2.40 3.4 3.13    35  2.50  2.39  3.50\n",
       "4 4.00 1.50 8.36 4.38 1.49 8.00 4.20 1.44 7.50 4.3 1.50    35  8.36  7.53  4.40\n",
       "5 3.90 5.50 1.62 4.17 6.18 1.67 3.60 5.50 1.65 4.0 5.75    35  1.69  1.63  4.17\n",
       "6 4.00 7.00 1.53 4.37 7.31 1.50 4.00 7.00 1.50 4.2 7.00    34  1.53  1.50  4.40\n",
       "  BbAvD BbMxA BbAvA BbOU BbMx.2.5 BbAv.2.5 BbMx.2.5.1 BbAv.2.5.1 BbAH BbAHh\n",
       "1  3.15  4.52  4.17   31     2.84     2.68       1.53       1.46   18 -0.50\n",
       "2  3.86  4.83  4.46   33     1.69     1.64       2.40       2.27   16 -0.75\n",
       "3  3.32  3.20  3.01   34     2.03     1.98       1.90       1.84   18 -0.25\n",
       "4  4.17  1.51  1.48   34     2.20     2.11       1.80       1.74   16  1.25\n",
       "5  3.93  6.20  5.58   33     1.81     1.75       2.14       2.09   16 -1.00\n",
       "6  4.17  7.50  6.94   32     2.01     1.94       1.96       1.87   17 -1.00\n",
       "  BbMxAHH BbAvAHH BbMxAHA BbAvAHA PSCH PSCD PSCA\n",
       "1    2.07    2.03    1.90    1.86 1.98 3.35 4.63\n",
       "2    2.05    1.97    1.96    1.91 1.78 4.24 4.43\n",
       "3    2.08    2.05    1.87    1.83 2.12 3.53 3.74\n",
       "4    1.77    1.75    2.25    2.16 6.93 3.83 1.63\n",
       "5    2.12    2.06    1.86    1.82 1.64 4.18 5.82\n",
       "6    1.90    1.86    2.05    2.01 1.53 4.48 6.91\n",
       "\n",
       "[[2]]\n",
       "  Div       Date   HomeTeam   AwayTeam FTHG FTAG FTR HTHG HTAG HTR HS AS HST\n",
       "1 SP1 17/08/2018      Betis    Levante    0    3   A    0    1   A 22  6   8\n",
       "2 SP1 17/08/2018     Girona Valladolid    0    0   D    0    0   D 13  2   1\n",
       "3 SP1 18/08/2018  Barcelona     Alaves    3    0   H    0    0   D 25  3   9\n",
       "4 SP1 18/08/2018      Celta    Espanol    1    1   D    0    1   A 12 14   2\n",
       "5 SP1 18/08/2018 Villarreal   Sociedad    1    2   A    1    1   D 16  8   7\n",
       "6 SP1 19/08/2018      Eibar     Huesca    1    2   A    0    2   A 18  8   6\n",
       "  AST HF AF HC AC HY AY HR AR B365H B365D B365A  BWH  BWD   BWA  IWH  IWD  IWA\n",
       "1   4 10 10  5  3  0  2  0  0  1.66  4.00   5.0 1.70  3.7  5.25 1.75 3.60  4.9\n",
       "2   1 21 20  3  2  1  1  0  0  1.75  3.60   5.0 1.75  3.5  5.25 1.80 3.60  4.5\n",
       "3   0  6 13  7  1  0  2  0  0  1.11 10.00  21.0 1.11 10.0 20.00 1.12 9.00 20.0\n",
       "4   5 13 14  8  7  3  2  0  0  1.85  3.50   4.5 1.91  3.4  4.25 1.90 3.50  4.1\n",
       "5   4 16 10  4  6  2  3  0  0  2.04  3.40   3.8 2.05  3.3  3.90 2.00 3.40  3.8\n",
       "6   6 12 13  7  0  1  1  0  0  1.66  3.75   5.5 1.70  3.7  5.25 1.70 3.75  5.0\n",
       "   PSH   PSD   PSA  WHH WHD   WHA  VCH  VCD  VCA Bb1X2 BbMxH BbAvH BbMxD BbAvD\n",
       "1 1.69  4.19  5.11 1.67 3.9  4.75 1.67  4.2  5.2    40  1.75  1.68  4.25  4.00\n",
       "2 1.80  3.70  4.99 1.75 3.6  4.60 1.80  3.7  4.8    40  1.85  1.78  3.83  3.60\n",
       "3 1.11 11.27 25.40 1.08 9.0 29.00 1.10 10.5 34.0    40  1.13  1.10 11.50  9.82\n",
       "4 1.93  3.64  4.27 1.91 3.5  4.00 1.93  3.5  4.4    38  1.97  1.90  3.73  3.53\n",
       "5 2.06  3.51  3.91 2.05 3.3  3.60 2.05  3.5  3.9    40  2.11  2.03  3.62  3.43\n",
       "6 1.72  3.90  5.26 1.73 3.6  4.75 1.70  3.8  5.0    40  1.76  1.70  3.93  3.77\n",
       "  BbMxA BbAvA BbOU BbMx.2.5 BbAv.2.5 BbMx.2.5.1 BbAv.2.5.1 BbAH BbAHh BbMxAHH\n",
       "1  5.25  4.95   38     1.82     1.76       2.15       2.06   20 -0.75    1.89\n",
       "2  5.27  4.79   38     2.21     2.13       1.78       1.71   20 -0.75    2.06\n",
       "3 41.00 25.67   32     1.39     1.34       3.40       3.18   19 -2.50    1.95\n",
       "4  4.50  4.20   36     2.13     2.06       1.84       1.76   18 -0.75    2.26\n",
       "5  3.93  3.76   37     2.05     1.99       1.88       1.81   18 -0.25    1.76\n",
       "6  5.50  5.08   37     1.95     1.88       1.98       1.91   19 -0.75    1.96\n",
       "  BbAvAHH BbMxAHA BbAvAHA PSCH  PSCD  PSCA\n",
       "1    1.85    2.07    2.00 1.59  4.42  5.89\n",
       "2    2.01    1.90    1.85 1.76  3.57  5.62\n",
       "3    1.91    2.00    1.95 1.10 11.85 32.17\n",
       "4    2.18    1.74    1.71 2.18  3.26  3.85\n",
       "5    1.74    2.23    2.14 2.32  3.21  3.53\n",
       "6    1.91    2.01    1.94 1.77  3.68  5.32\n",
       "\n",
       "[[3]]\n",
       "  Div       Date  Time   HomeTeam    AwayTeam FTHG FTAG FTR HTHG HTAG HTR HS AS\n",
       "1 SP1 16/08/2019 20:00 Ath Bilbao   Barcelona    1    0   H    0    0   D 11 11\n",
       "2 SP1 17/08/2019 16:00      Celta Real Madrid    1    3   A    0    1   A  7 17\n",
       "3 SP1 17/08/2019 18:00   Valencia    Sociedad    1    1   D    0    0   D 14 12\n",
       "4 SP1 17/08/2019 19:00   Mallorca       Eibar    2    1   H    1    0   H 16 11\n",
       "5 SP1 17/08/2019 20:00    Leganes     Osasuna    0    1   A    0    0   D 13  4\n",
       "6 SP1 17/08/2019 20:00 Villarreal     Granada    4    4   D    1    1   D 12 14\n",
       "  HST AST HF AF HC AC HY AY HR AR B365H B365D B365A  BWH  BWD  BWA  IWH  IWD\n",
       "1   5   2 14  9  3  8  1  1  0  0  5.25  3.80  1.65 5.50 3.80 1.65 5.00 3.80\n",
       "2   4  11 17 12  6  4  5  2  0  1  4.75  4.20  1.65 4.40 4.20 1.72 5.30 4.20\n",
       "3   6   3 13 14  3  3  4  4  1  0  1.66  3.75  5.50 1.67 3.75 5.50 1.67 3.75\n",
       "4   4   5 13 14  9  3  2  3  0  0  2.80  3.20  2.60 2.95 3.10 2.60 2.90 3.10\n",
       "5   2   2 17 11  8  0  1  4  1  0  2.00  3.20  4.20 2.05 3.25 3.90 2.05 3.10\n",
       "6   7   7 10 16  2  7  3  1  0  0  1.60  3.80  6.50 1.60 3.80 6.25 1.63 4.00\n",
       "   IWA  PSH  PSD  PSA  WHH WHD  WHA  VCH  VCD  VCA MaxH MaxD MaxA AvgH AvgD\n",
       "1 1.70 5.15 3.84 1.74 5.00 3.8 1.70 5.00 3.80 1.75 5.50 3.95 1.76 5.07 3.81\n",
       "2 1.60 4.73 4.18 1.72 5.25 4.2 1.60 4.75 4.20 1.73 5.30 4.40 1.73 4.67 4.12\n",
       "3 5.30 1.68 3.94 5.47 1.67 3.8 5.25 1.67 3.90 5.75 1.72 3.98 5.75 1.68 3.80\n",
       "4 2.60 2.98 3.14 2.66 2.90 3.1 2.62 2.90 3.13 2.70 3.05 3.20 2.70 2.91 3.09\n",
       "5 4.05 2.10 3.21 4.13 2.05 3.2 4.00 2.10 3.20 4.10 2.10 3.30 4.25 2.06 3.18\n",
       "6 5.50 1.62 3.99 6.13 1.60 3.9 5.80 1.65 4.00 5.75 1.65 4.15 6.50 1.61 3.95\n",
       "  AvgA B365.2.5 B365.2.5.1 P.2.5 P.2.5.1 Max.2.5 Max.2.5.1 Avg.2.5 Avg.2.5.1\n",
       "1 1.71     1.80       2.00  1.81    2.09    1.85      2.11    1.79      2.05\n",
       "2 1.69     1.53       2.50  1.52    2.66    1.53      2.72    1.49      2.58\n",
       "3 5.29     2.00       1.80  2.08    1.82    2.14      1.83    2.07      1.77\n",
       "4 2.62     2.30       1.61  2.45    1.60    2.47      1.65    2.34      1.60\n",
       "5 4.02     2.50       1.53  2.72    1.50    2.75      1.54    2.59      1.49\n",
       "6 5.80     1.80       2.00  1.88    2.02    1.90      2.05    1.84      1.98\n",
       "    AHh B365AHH B365AHA PAHH PAHA MaxAHH MaxAHA AvgAHH AvgAHA B365CH B365CD\n",
       "1  0.75    1.99    1.94 1.98 1.94   2.00   1.95   1.96   1.92   5.25   3.80\n",
       "2  0.75    2.04    1.89 2.01 1.91   2.05   1.91   2.00   1.88   5.25   4.20\n",
       "3 -0.75    1.91    2.02 1.91 2.01   1.93   2.03   1.89   1.99   1.66   3.75\n",
       "4  0.00    2.05    1.88 2.07 1.85   2.07   1.88   2.04   1.85   2.87   3.20\n",
       "5 -0.50    2.08    1.85 2.10 1.82   2.10   1.85   2.06   1.83   1.90   3.10\n",
       "6 -1.00    2.05    1.75 2.11 1.81   2.14   1.85   2.07   1.80   1.53   4.00\n",
       "  B365CA BWCH BWCD BWCA IWCH IWCD IWCA PSCH PSCD PSCA WHCH WHCD WHCA VCCH VCCD\n",
       "1   1.65 4.75 3.75 1.75 5.00 3.80 1.70 5.34 3.62 1.78 5.00  3.8 1.70 4.80 3.80\n",
       "2   1.57 4.50 4.10 1.70 4.60 3.80 1.75 5.10 4.46 1.65 5.00  4.2 1.63 5.20 4.40\n",
       "3   5.50 1.65 3.80 5.50 1.67 3.80 5.30 1.69 3.88 5.47 1.65  3.9 5.25 1.70 3.90\n",
       "4   2.55 2.95 3.10 2.60 2.90 3.10 2.60 2.96 3.26 2.60 2.90  3.1 2.60 3.00 3.13\n",
       "5   5.00 1.95 3.20 4.50 1.90 3.15 4.85 1.90 3.18 5.30 2.05  3.2 4.00 1.90 3.20\n",
       "6   6.50 1.57 3.80 6.50 1.55 4.05 6.30 1.54 4.19 6.87 1.62  3.9 5.80 1.57 4.00\n",
       "  VCCA MaxCH MaxCD MaxCA AvgCH AvgCD AvgCA B365C.2.5 B365C.2.5.1 PC.2.5\n",
       "1 1.80  5.80  3.90  1.81  5.03  3.66  1.76      1.90        1.90   1.98\n",
       "2 1.65  6.00  4.52  1.75  4.93  4.26  1.65      1.44        2.75   1.49\n",
       "3 5.50  1.72  3.95  6.20  1.68  3.82  5.37      2.00        1.80   2.06\n",
       "4 2.63  3.05  3.29  2.72  2.93  3.14  2.59      2.20        1.66   2.20\n",
       "5 5.20  1.95  3.26  5.30  1.90  3.16  4.91      2.75        1.44   2.84\n",
       "6 7.00  1.58  4.20  7.30  1.54  4.05  6.66      1.90        1.90   1.95\n",
       "  PC.2.5.1 MaxC.2.5 MaxC.2.5.1 AvgC.2.5 AvgC.2.5.1  AHCh B365CAHH B365CAHA\n",
       "1     1.93     1.99       2.11     1.86       1.97  0.75     1.93     2.00\n",
       "2     2.76     1.51       2.88     1.47       2.63  1.00     1.82     1.97\n",
       "3     1.85     2.08       1.98     2.00       1.82 -0.75     1.94     1.99\n",
       "4     1.74     2.38       1.74     2.24       1.66  0.00     2.11     1.82\n",
       "5     1.47     2.85       1.50     2.69       1.46 -0.50     1.89     2.04\n",
       "6     1.95     1.98       2.10     1.90       1.92 -1.00     1.96     1.97\n",
       "  PCAHH PCAHA MaxCAHH MaxCAHA AvgCAHH AvgCAHA\n",
       "1  1.91  2.01    2.02    2.03    1.91    1.98\n",
       "2  1.85  2.07    2.00    2.20    1.82    2.06\n",
       "3  1.92  2.00    1.96    2.12    1.89    2.00\n",
       "4  2.09  1.83    2.12    1.88    2.07    1.83\n",
       "5  1.90  2.01    1.95    2.06    1.90    1.99\n",
       "6  1.96  1.96    1.98    2.12    1.93    1.95\n"
      ]
     },
     "metadata": {},
     "output_type": "display_data"
    }
   ],
   "source": [
    "#Se visualiza información sobre los dataframes importados previamente\n",
    "\n",
    "#lapply(LigaEspanola , View )\n",
    "#lapply(LigaEspanola , summary) \n",
    "lapply(LigaEspanola , str) \n",
    "lapply(LigaEspanola , head) "
   ]
  },
  {
   "cell_type": "markdown",
   "metadata": {},
   "source": [
    "3. Selección de   las columnas Date, HomeTeam, AwayTeam, FTHG, FTAG y FTR; esto para cada uno de los data."
   ]
  },
  {
   "cell_type": "code",
   "execution_count": 11,
   "metadata": {},
   "outputs": [],
   "source": [
    "#Selección en cada uno de los archivos\n",
    "LigaEspanola <- lapply(LigaEspanola, select, Date, HomeTeam:FTR)"
   ]
  },
  {
   "cell_type": "markdown",
   "metadata": {},
   "source": [
    "4. Asegúrate de que los elementos de las columnas correspondientes de los nuevos data frames sean del mismo tipo."
   ]
  },
  {
   "cell_type": "code",
   "execution_count": 12,
   "metadata": {
    "scrolled": true
   },
   "outputs": [
    {
     "name": "stdout",
     "output_type": "stream",
     "text": [
      "'data.frame':\t1140 obs. of  6 variables:\n",
      " $ Date    : Date, format: \"0017-08-18\" \"0017-08-18\" ...\n",
      " $ HomeTeam: Factor w/ 26 levels \"Alaves\",\"Ath Bilbao\",..: 13 19 6 10 17 2 4 11 14 15 ...\n",
      " $ AwayTeam: Factor w/ 26 levels \"Alaves\",\"Ath Bilbao\",..: 1 12 18 3 8 9 5 16 20 7 ...\n",
      " $ FTHG    : int  1 1 2 2 1 0 2 0 1 0 ...\n",
      " $ FTAG    : int  0 0 3 2 1 0 0 3 0 1 ...\n",
      " $ FTR     : Factor w/ 3 levels \"A\",\"D\",\"H\": 3 3 1 2 2 2 3 1 3 1 ...\n"
     ]
    }
   ],
   "source": [
    "#Se unen los datos seleccionados\n",
    "DatosLE <- do.call(rbind, LigaEspanola)\n",
    "#Se cambia a tipo fecha la columna Date\n",
    "DatosLE <- mutate(DatosLE, Date = as.Date(Date, \"%d/%m/%Y\"))\n",
    "str(DatosLE)"
   ]
  },
  {
   "cell_type": "markdown",
   "metadata": {},
   "source": [
    "**Hallazgos:**\n",
    "1. Los datos de la columna date se cargaron en formato cadena de catacteres.\n",
    "2. Todos los archivos contiene las columnas deseadas con los mismos tipos de datos\n",
    "\n",
    "**Conclusión:**\n",
    "\n",
    "Es necesario verificar la estuctura de los datos y  el tipo de datos para poder realizar una concatenación de datos. "
   ]
  },
  {
   "cell_type": "markdown",
   "metadata": {},
   "source": [
    "## Postwork 3 -  Análisis Exploratorio de Datos (AED o EDA) con R\n",
    "\n",
    "**Objetivo:** Realizar descarga de archivos desde internet, generar nuevos data frames y visualizar probabilidades estimadas con la ayuda de gráficas.\n",
    "\n",
    "**Hipotesis:** \n",
    "De forma gráfica se puede tener una mejor noción de los datos\n",
    "\n",
    "**Preguntas clave:**\n",
    "1. ¿Qué tipo de datos se desea graficar?\n",
    "2. ¿Cuántas variables se desean graficar?\n",
    "3. ¿Cuáles son los rangos de los datos?"
   ]
  },
  {
   "cell_type": "markdown",
   "metadata": {},
   "source": [
    "1. Con el último data frame obtenido en el postwork de la sesión 2, elabora tablas de frecuencias relativas para estimar las siguientes probabilidades: Probabilidad marginal equipo de casa, probabilidad marginal de equipo visitante, probabilida conjunta."
   ]
  },
  {
   "cell_type": "code",
   "execution_count": 35,
   "metadata": {},
   "outputs": [
    {
     "name": "stdout",
     "output_type": "stream",
     "text": [
      "[1] \"Probabilidad conjunta\"\n"
     ]
    },
    {
     "data": {
      "text/plain": [
       "         \n",
       "          0 goles   1 gol 2 goles 3 goles 4 goles 5 goles 6 goles\n",
       "  0 goles 0.07807 0.08070 0.04561 0.01842 0.00526 0.00439 0.00000\n",
       "  1 gol   0.11579 0.11491 0.06842 0.01754 0.00877 0.00175 0.00000\n",
       "  2 goles 0.08772 0.09386 0.06140 0.01140 0.00877 0.00175 0.00175\n",
       "  3 goles 0.04474 0.03246 0.02456 0.00614 0.00175 0.00175 0.00088\n",
       "  4 goles 0.01404 0.01053 0.00702 0.00000 0.00351 0.00000 0.00000\n",
       "  5 goles 0.00877 0.00526 0.00439 0.00000 0.00088 0.00000 0.00000\n",
       "  6 goles 0.00263 0.00175 0.00000 0.00088 0.00000 0.00000 0.00000\n",
       "  7 goles 0.00000 0.00088 0.00000 0.00000 0.00000 0.00000 0.00000\n",
       "  8 goles 0.00000 0.00000 0.00088 0.00000 0.00000 0.00000 0.00000"
      ]
     },
     "metadata": {},
     "output_type": "display_data"
    }
   ],
   "source": [
    "#Se obtiene la probabilidad conjunta\n",
    "ProbConjuntaLE <- prop.table(table(DatosLE$FTHG,DatosLE$FTAG))\n",
    "#Se cambia los nombres de las filas y columnas\n",
    "colnames(ProbConjuntaLE) <- c(\"0 goles\", \"1 gol\", \"2 goles\", \"3 goles\", \"4 goles\", \"5 goles\", \"6 goles\")\n",
    "rownames(ProbConjuntaLE) <- c(\"0 goles\", \"1 gol\", \"2 goles\", \"3 goles\", \"4 goles\", \"5 goles\", \"6 goles\",\"7 goles\",\"8 goles\")\n",
    "#Se visualiza\n",
    "print('Probabilidad conjunta')\n",
    "round(ProbConjuntaLE,5)"
   ]
  },
  {
   "cell_type": "code",
   "execution_count": 14,
   "metadata": {},
   "outputs": [
    {
     "data": {
      "text/html": [
       "<table>\n",
       "<thead><tr><th></th><th scope=col>ProbCasaLE</th><th scope=col>ProbVisitanteLE</th></tr></thead>\n",
       "<tbody>\n",
       "\t<tr><th scope=row>0 goles</th><td>0.232456140</td><td>0.351754386</td></tr>\n",
       "\t<tr><th scope=row>1 gol</th><td>0.327192982</td><td>0.340350877</td></tr>\n",
       "\t<tr><th scope=row>2 goles</th><td>0.266666667</td><td>0.212280702</td></tr>\n",
       "\t<tr><th scope=row>3 goles</th><td>0.112280702</td><td>0.054385965</td></tr>\n",
       "\t<tr><th scope=row>4 goles</th><td>0.035087719</td><td>0.028947368</td></tr>\n",
       "\t<tr><th scope=row>5 goles</th><td>0.019298246</td><td>0.009649123</td></tr>\n",
       "\t<tr><th scope=row>6 goles</th><td>0.005263158</td><td>0.002631579</td></tr>\n",
       "\t<tr><th scope=row>7 goles</th><td>0.000877193</td><td>        NaN</td></tr>\n",
       "\t<tr><th scope=row>8 goles</th><td>0.000877193</td><td>        NaN</td></tr>\n",
       "</tbody>\n",
       "</table>\n"
      ],
      "text/latex": [
       "\\begin{tabular}{r|ll}\n",
       "  & ProbCasaLE & ProbVisitanteLE\\\\\n",
       "\\hline\n",
       "\t0 goles & 0.232456140 & 0.351754386\\\\\n",
       "\t1 gol & 0.327192982 & 0.340350877\\\\\n",
       "\t2 goles & 0.266666667 & 0.212280702\\\\\n",
       "\t3 goles & 0.112280702 & 0.054385965\\\\\n",
       "\t4 goles & 0.035087719 & 0.028947368\\\\\n",
       "\t5 goles & 0.019298246 & 0.009649123\\\\\n",
       "\t6 goles & 0.005263158 & 0.002631579\\\\\n",
       "\t7 goles & 0.000877193 &         NaN\\\\\n",
       "\t8 goles & 0.000877193 &         NaN\\\\\n",
       "\\end{tabular}\n"
      ],
      "text/markdown": [
       "\n",
       "| <!--/--> | ProbCasaLE | ProbVisitanteLE |\n",
       "|---|---|---|\n",
       "| 0 goles | 0.232456140 | 0.351754386 |\n",
       "| 1 gol | 0.327192982 | 0.340350877 |\n",
       "| 2 goles | 0.266666667 | 0.212280702 |\n",
       "| 3 goles | 0.112280702 | 0.054385965 |\n",
       "| 4 goles | 0.035087719 | 0.028947368 |\n",
       "| 5 goles | 0.019298246 | 0.009649123 |\n",
       "| 6 goles | 0.005263158 | 0.002631579 |\n",
       "| 7 goles | 0.000877193 |         NaN |\n",
       "| 8 goles | 0.000877193 |         NaN |\n",
       "\n"
      ],
      "text/plain": [
       "        ProbCasaLE  ProbVisitanteLE\n",
       "0 goles 0.232456140 0.351754386    \n",
       "1 gol   0.327192982 0.340350877    \n",
       "2 goles 0.266666667 0.212280702    \n",
       "3 goles 0.112280702 0.054385965    \n",
       "4 goles 0.035087719 0.028947368    \n",
       "5 goles 0.019298246 0.009649123    \n",
       "6 goles 0.005263158 0.002631579    \n",
       "7 goles 0.000877193         NaN    \n",
       "8 goles 0.000877193         NaN    "
      ]
     },
     "metadata": {},
     "output_type": "display_data"
    }
   ],
   "source": [
    "#Se obtiene la probabilidad marginal de cada variable\n",
    "ProbCasaLE<- prop.table(apply(ProbConjuntaLE,MARGIN = 1,sum))\n",
    "ProbVisitanteLE<- prop.table( apply(ProbConjuntaLE,MARGIN = 2,sum))\n",
    "#Se juntan los datos en un sólo dataframe y se visualiza\n",
    "ProbMarginalLE <- cbind(ProbCasaLE,c(ProbVisitanteLE, NaN,NaN))\n",
    "colnames(ProbMarginalLE)[2] <- 'ProbVisitanteLE'\n",
    "ProbMarginalLE"
   ]
  },
  {
   "cell_type": "markdown",
   "metadata": {},
   "source": [
    "2. Realiza lo siguiente:\n",
    "\n",
    "Un gráfico de barras para las probabilidades marginales estimadas del número de goles que anota el equipo de casa.\n",
    "\n",
    "Un gráfico de barras para las probabilidades marginales estimadas del número de goles que anota el equipo visitante.\n",
    "\n",
    "Un HeatMap para las probabilidades conjuntas estimadas de los números de goles que anotan el equipo de casa y el equipo visitante en un partido.\n"
   ]
  },
  {
   "cell_type": "code",
   "execution_count": 15,
   "metadata": {},
   "outputs": [
    {
     "data": {
      "image/png": "[encoded data removed]",
      "text/plain": [
       "Plot with title \"Probabilidad del Número de Goles \n",
       " que Anota el Equipo Visitante\""
      ]
     },
     "metadata": {},
     "output_type": "display_data"
    }
   ],
   "source": [
    "layout(matrix(c(1:2), nrow=2, byrow=FALSE))\n",
    "barplot(ProbCasaLE, main = \" Probabilidad del Numero de Goles \\n que Anota el Equipo en Casa\", \n",
    "     xlab = \"Numero de Goles\", ylab = \"Probabilidad\", col = \"#58d68d\")\n",
    "\n",
    "barplot(prop.table(table(DatosLE$FTAG)), main = \"Probabilidad del Número de Goles \\n que Anota el Equipo Visitante\", \n",
    "        xlab = \"Numero de Goles\", ylab = \"Probabilidad\", col = \"#85c1e9\")"
   ]
  },
  {
   "cell_type": "code",
   "execution_count": 34,
   "metadata": {},
   "outputs": [
    {
     "data": {
      "image/png": "[encoded data removed]",
      "text/plain": [
       "Plot with title \"Probabilidad conjunta del Marcador de Goles\""
      ]
     },
     "metadata": {},
     "output_type": "display_data"
    }
   ],
   "source": [
    "heatmap(ProbConjuntaLE,\n",
    "        scale = \"none\",\n",
    "        Rowv = NA, Colv = NA, \n",
    "        col = cm.colors(256),\n",
    "        xlab=\"Goles del Equipo Visitante\", ylab=\"Goles del Equipo en Casa\",\n",
    "        main = \"Probabilidad conjunta del Marcador de Goles\")"
   ]
  },
  {
   "cell_type": "markdown",
   "metadata": {},
   "source": [
    "**Hallazgos:**\n",
    "1. En las gráficas de probabilidad marginal se observa la tendencia mencionada en el postwork 1. La mayor parte de la probabilidad se concentra en anotar menos de tres goles. Existe una tendencia a anotar menos de tres goles que anotar más de tres.\n",
    "2. En el mapa de calor se observa la concentración de probabilidad en el recuadro de 2x2 goles.\n",
    "\n",
    "**Conclusión:**\n",
    "\n",
    "La gráficas dan una mejor noción de los datos así como la relación entre las variables.\n"
   ]
  },
  {
   "cell_type": "markdown",
   "metadata": {},
   "source": [
    "## Postwork 4 -  Algunas distribuciones, teorema central del límite y contraste de hipótesis\n",
    "\n",
    "**Objetivo:** Investigar la dependencia o independecia de las variables aleatorias X y Y, el número de goles anotados por el equipo de casa y el número de goles anotados por el equipo visitante."
   ]
  },
  {
   "cell_type": "markdown",
   "metadata": {},
   "source": [
    "**Hipotesis:**\n",
    "\n",
    "1. Si se realiza un muestreo se podría obtener una distribución normal\n",
    "2. Si anotar goles son eventos independientes, las la distribución se centraría en 1 \n",
    "\n",
    "**Preguntas clave:**\n",
    "1. Si tenemos una distribución no centrada en 1 ¿Qué parametro nos ayuda a determinar si las variables son independientes?\n",
    "2. ¿Cúantos remuestreos son suficientes para realizar la comprobación?"
   ]
  },
  {
   "cell_type": "markdown",
   "metadata": {},
   "source": [
    "### Independencia de eventos\n",
    "\n",
    "Dos eventos A y B son independientes si se puede escribir la probabilidad conjunta como multiplicación de la probabilidad marginal. $ P(A \\cap B)= P(A)P(B) $. En este caso los eventos corresponde a los goles anotados por el equipo visitante y el equipo de casa.\n",
    "\n",
    "Dado las probabilidades marginales y las proabilidades conjuntas se puede determinas si los eventos son independientes si se cumple \n",
    "$$ \\frac{P(A \\cap B)}{P(A)P(B)}=1$$\n",
    "\n",
    "Dada la matriz resultante se obtiene la media para observar lo cercano a 1 que se encuentra el resultado."
   ]
  },
  {
   "cell_type": "markdown",
   "metadata": {},
   "source": [
    "### Bootstrap\n",
    "\n",
    "Una distribución de muestreo describe la probabilidad de obtener cada valor posible de un estadístico de una muestra aleatoria de una población. Bootstrap es un método que estima la distribución de muestreo al tomar múltiples muestras con reemplazo de una sola muestra aleatoria. Estas nuevas muestras se denominan muestras repetidas. \n"
   ]
  },
  {
   "cell_type": "markdown",
   "metadata": {},
   "source": [
    "### Teorema del límite central\n",
    "Establece que para una  muestra grande alguna población, la distribución de las medias muestrales es una distribución normal."
   ]
  },
  {
   "cell_type": "markdown",
   "metadata": {},
   "source": [
    "### Contraste de hipotesis\n",
    "\n",
    "Las hipótesis se pueden comparar con la información de las muestras y al rechazar o aceptar la hipotesis se comete algún error. Se pretende rechazar la hipótesis nula (H0) y lo que implica aceptar una hipótesis alternativa (H1).\n",
    "\n",
    "La hipotesis a verificar es las variables son independientes o no, lo que se escribe cómo $H_0: \\mu=1$ y $H_1: \\mu \\neq 1$"
   ]
  },
  {
   "cell_type": "markdown",
   "metadata": {},
   "source": [
    "1. Obtén una tabla de cocientes al dividir estas probabilidades conjuntas por el producto de las probabilidades marginales correspondientes."
   ]
  },
  {
   "cell_type": "code",
   "execution_count": 17,
   "metadata": {},
   "outputs": [
    {
     "data": {
      "text/plain": [
       "         \n",
       "          0 goles   1 gol 2 goles 3 goles 4 goles 5 goles 6 goles\n",
       "  0 goles 0.95478 1.02004 0.92437 1.45709 0.78216 1.95540 0.00000\n",
       "  1 gol   1.00606 1.03190 0.98509 0.98590 0.92615 0.55569 0.00000\n",
       "  2 goles 0.93516 1.03415 1.08471 0.78629 1.13636 0.68182 2.50000\n",
       "  3 goles 1.13272 0.84931 1.03048 1.00554 0.53977 1.61932 2.96875\n",
       "  4 goles 1.13716 0.88144 0.94215 0.00000 3.45455 0.00000 0.00000\n",
       "  5 goles 1.29222 0.80131 1.07062 0.00000 1.57025 0.00000 0.00000\n",
       "  6 goles 1.42145 0.97938 0.00000 3.06452 0.00000 0.00000 0.00000\n",
       "  7 goles 0.00000 2.93814 0.00000 0.00000 0.00000 0.00000 0.00000\n",
       "  8 goles 0.00000 0.00000 4.71074 0.00000 0.00000 0.00000 0.00000"
      ]
     },
     "metadata": {},
     "output_type": "display_data"
    }
   ],
   "source": [
    "#Multiplicación de las probabilidades marginales P(A)P(B)\n",
    "ProductoProbMarg <- t(ProbVisitanteLE %*% t(ProbCasaLE))\n",
    "#Cociente de la probabilidad conjunta entre la marginal\n",
    "ProbCo <- round(ProbConjuntaLE/ ProductoProbMarg,5)\n",
    "ProbCo"
   ]
  },
  {
   "cell_type": "code",
   "execution_count": 18,
   "metadata": {},
   "outputs": [
    {
     "data": {
      "text/html": [
       "0.859570476190476"
      ],
      "text/latex": [
       "0.859570476190476"
      ],
      "text/markdown": [
       "0.859570476190476"
      ],
      "text/plain": [
       "[1] 0.8595705"
      ]
     },
     "metadata": {},
     "output_type": "display_data"
    }
   ],
   "source": [
    "#Promedio de la matriz\n",
    "mean(ProbCo) "
   ]
  },
  {
   "cell_type": "markdown",
   "metadata": {},
   "source": [
    "2.Mediante un procedimiento de boostrap, obtén más cocientes similares a los obtenidos en la tabla del punto anterior. Esto para tener una idea de las distribuciones de la cual vienen los cocientes en la tabla anterior. Menciona en cuáles casos le parece razonable suponer que los cocientes de la tabla en el punto 1, son iguales a 1 (en tal caso tendríamos independencia de las variables aleatorias X y Y)."
   ]
  },
  {
   "cell_type": "code",
   "execution_count": 19,
   "metadata": {},
   "outputs": [],
   "source": [
    "#Función que realiza el proceso de obtener las proabilidades marginales, conjunta y la división entre ellas. \n",
    "#Regresa como resultado el media dada una muestra\n",
    "\n",
    "Comprobacion <- function(x,y){\n",
    "    \n",
    "    ProbConjunta <- prop.table(table(x,y))\n",
    "    ProbMargX<- prop.table(apply(ProbConjunta,MARGIN = 1,sum))\n",
    "    ProbMargY<- prop.table(apply(ProbConjunta,MARGIN = 2,sum))\n",
    "    \n",
    "    ProbCo <- ProbConjunta/t(ProbMargY %*% t(ProbMargX))\n",
    "    \n",
    "    return(round(mean(ProbCo),3))\n",
    "}\n"
   ]
  },
  {
   "cell_type": "code",
   "execution_count": 20,
   "metadata": {},
   "outputs": [],
   "source": [
    "#Semilla para el muestreo bootstraps\n",
    "set.seed(33421)\n",
    "Nmuestras <- 1000 # Número de muestras bootstrap\n",
    "#muestras\n",
    "DatosLE_boot <- bootstraps(DatosLE, times = Nmuestras)"
   ]
  },
  {
   "cell_type": "code",
   "execution_count": 21,
   "metadata": {},
   "outputs": [],
   "source": [
    "#Obtiene un vector con las medias de la comprobación todas las muestras realizadas por el bootstrap\n",
    "medias <- c()\n",
    "for(i in 1:Nmuestras){\n",
    "    muestra <- as.data.frame(DatosLE_boot$splits[[i]])\n",
    "    med <- Comprobacion(muestra$FTAG,muestra$FTHG)\n",
    "    medias <- c(medias,med)\n",
    "}"
   ]
  },
  {
   "cell_type": "code",
   "execution_count": 22,
   "metadata": {},
   "outputs": [
    {
     "name": "stdout",
     "output_type": "stream",
     "text": [
      "[1] \"La media es 0.89247 y a desviación estandar es 0.0712878184057631\"\n"
     ]
    }
   ],
   "source": [
    "print(paste(\"La media es\",mean(medias),'y a desviación estandar es',sd(medias)))"
   ]
  },
  {
   "cell_type": "code",
   "execution_count": 29,
   "metadata": {},
   "outputs": [
    {
     "name": "stderr",
     "output_type": "stream",
     "text": [
      "`stat_bin()` using `bins = 30`. Pick better value with `binwidth`.\n"
     ]
    },
    {
     "data": {
      "image/png": "[encoded data removed]",
      "text/plain": [
       "plot without title"
      ]
     },
     "metadata": {},
     "output_type": "display_data"
    }
   ],
   "source": [
    "#Se gráfica la distribución de medias\n",
    "ggplot() + \n",
    "  geom_histogram(aes(medias)) + \n",
    "  geom_vline(aes(xintercept = mean(medias))) +\n",
    "  ggtitle('Distribución de las medias muestrales.')"
   ]
  },
  {
   "cell_type": "code",
   "execution_count": 31,
   "metadata": {},
   "outputs": [
    {
     "data": {
      "text/plain": [
       "\n",
       "\tOne Sample t-test\n",
       "\n",
       "data:  medias\n",
       "t = -47.7, df = 999, p-value < 2.2e-16\n",
       "alternative hypothesis: true mean is not equal to 1\n",
       "95 percent confidence interval:\n",
       " 0.8880463 0.8968937\n",
       "sample estimates:\n",
       "mean of x \n",
       "  0.89247 \n"
      ]
     },
     "metadata": {},
     "output_type": "display_data"
    }
   ],
   "source": [
    "t.test(medias, alternative='two.sided',\n",
    "       conf.level=0.95, mu=1)"
   ]
  },
  {
   "cell_type": "markdown",
   "metadata": {},
   "source": [
    "**Hallazgos:**\n",
    "1. Se puede realizar el proceso resmuestreo con la función sample o bootstraps.\n",
    "\n",
    "2. Se realizan diferentes muestreos, se aplicó el proceso de obtener las media de la comprobación y se observó que el resultado es una distribución normal\n",
    "\n",
    "**Conclusiones:**\n",
    "\n",
    "1. De acuerto al teorema de límite central la distribución de las medias es una distribución normal\n",
    "2. La distribución se centra en 0.89247 con una varianza de 0.071. \n",
    "3.  p-value < 2.2e-16<0.05 por lo que se rechaza la hiporesis nula y por lo tanto no son independienes."
   ]
  },
  {
   "cell_type": "markdown",
   "metadata": {},
   "source": [
    "## Postwork 5 - Regresión lineal y clasificación\n",
    "**Objetivo:** Realizar predicciones de los resultados de partidos para una fecha determinada y entender como una variable de respuesta está relacionada con varias variables explicativas.\n",
    "\n",
    "**Hipotesis:** \n",
    "Entre más datos se incluyan, más precisas van a ser las predicciones finales. \n",
    "\n",
    "**Preguntas clave:**\n",
    "1. Cuántos datos se necesitan incluir para tener una predicción certera?\n",
    "2. ¿Cómo mejorar las predicciones?"
   ]
  },
  {
   "cell_type": "markdown",
   "metadata": {},
   "source": [
    "1. A partir del conjunto de datos de soccer de la liga española de las temporadas 2017/2018, 2018/2019 y 2019/2020, crea el data frame SmallData, que contenga las columnas date, home.team, home.score, away.team y away.score; Con ayuda de la función write.csv guarda el data frame como un archivo csv con nombre soccer.csv. "
   ]
  },
  {
   "cell_type": "code",
   "execution_count": 40,
   "metadata": {},
   "outputs": [],
   "source": [
    "#Links de los datos a descargar\n",
    "LinkT1718 <- \"https://www.football-data.co.uk/mmz4281/1718/SP1.csv\"\n",
    "LinkT1819 <- \"https://www.football-data.co.uk/mmz4281/1819/SP1.csv\"\n",
    "LinkT1920 <- \"https://www.football-data.co.uk/mmz4281/1920/SP1.csv\"\n",
    "\n",
    "Links <- list(LinkT1718,LinkT1819,LinkT1920)"
   ]
  },
  {
   "cell_type": "code",
   "execution_count": 41,
   "metadata": {},
   "outputs": [],
   "source": [
    "#Se crea un dataframe vacío para añadir los datos de interes\n",
    "SmallData <- data.frame(date = character(),\n",
    "                        home.team = character(),\n",
    "                        home.score = numeric(),\n",
    "                        away.team  = character(),\n",
    "                       away.score = numeric())"
   ]
  },
  {
   "cell_type": "code",
   "execution_count": 42,
   "metadata": {},
   "outputs": [
    {
     "name": "stdout",
     "output_type": "stream",
     "text": [
      "[1] \"Dimensión con 1 fichero cargado: 380\"\n",
      "[1] \"Dimensión con 2 fichero cargado: 760\"\n",
      "[1] \"Dimensión con 3 fichero cargado: 1140\"\n"
     ]
    }
   ],
   "source": [
    "#Se descarga cada csv, se añada al dataframe\n",
    "for(i in 1:length(Links)){\n",
    "     D <- read.csv(Links[[i]])\n",
    "     N <- select(D, date = Date, home.team = HomeTeam,home.score = FTHG, away.team = AwayTeam, away.score = FTAG)\n",
    "    SmallData <- rbind(SmallData,N)\n",
    "    print(paste('Dimensión con',i,'fichero cargado:',dim(SmallData)[1]))\n",
    "}"
   ]
  },
  {
   "cell_type": "code",
   "execution_count": 43,
   "metadata": {},
   "outputs": [
    {
     "name": "stdout",
     "output_type": "stream",
     "text": [
      "'data.frame':\t1140 obs. of  5 variables:\n",
      " $ date      : Date, format: \"2017-08-18\" \"2017-08-18\" ...\n",
      " $ home.team : Factor w/ 26 levels \"Alaves\",\"Ath Bilbao\",..: 13 19 6 10 17 2 4 11 14 15 ...\n",
      " $ home.score: int  1 1 2 2 1 0 2 0 1 0 ...\n",
      " $ away.team : Factor w/ 26 levels \"Alaves\",\"Ath Bilbao\",..: 1 12 18 3 8 9 5 16 20 7 ...\n",
      " $ away.score: int  0 0 3 2 1 0 0 3 0 1 ...\n"
     ]
    }
   ],
   "source": [
    "#Se tranforma la columna date a tipo fecha\n",
    "SmallData <- mutate(SmallData,date= as.Date(SmallData$date, format = \"%d/%m/%y\"))\n",
    "str(SmallData)"
   ]
  },
  {
   "cell_type": "code",
   "execution_count": 44,
   "metadata": {},
   "outputs": [],
   "source": [
    "#Se guardan los datos en un csv\n",
    "write.csv(SmallData, file=\"soccer.csv\", row.names = FALSE)"
   ]
  },
  {
   "cell_type": "markdown",
   "metadata": {},
   "source": [
    "2. Con la función create.fbRanks.dataframes del paquete fbRanks importe el archivo soccer.csv a R y al mismo tiempo asignelo a una variable llamada listasoccer. Se creará una lista con los elementos scores y teams que son data frames listos para la función rank.teams. Asigna estos data frames a variables llamadas anotaciones y equipos."
   ]
  },
  {
   "cell_type": "code",
   "execution_count": 46,
   "metadata": {},
   "outputs": [
    {
     "name": "stdout",
     "output_type": "stream",
     "text": [
      "Alert: teams info file was not passed in.\n",
      "Will construct one from the scores data frame but teams in the scores file must use a unique name.\n",
      "Alert: teams resolver was not passed in.\n",
      "Will construct one from the team info data frame.\n",
      "List of 6\n",
      " $ scores       :'data.frame':\t1140 obs. of  5 variables:\n",
      "  ..$ date      : Date[1:1140], format: \"2017-08-18\" \"2017-08-18\" ...\n",
      "  ..$ home.team : chr [1:1140] \"Leganes\" \"Valencia\" \"Celta\" \"Girona\" ...\n",
      "  ..$ home.score: num [1:1140] 1 1 2 2 1 0 2 0 1 0 ...\n",
      "  ..$ away.team : chr [1:1140] \"Alaves\" \"Las Palmas\" \"Sociedad\" \"Ath Madrid\" ...\n",
      "  ..$ away.score: num [1:1140] 0 0 3 2 1 0 0 3 0 1 ...\n",
      " $ raw.scores   :'data.frame':\t1140 obs. of  5 variables:\n",
      "  ..$ date      : Date[1:1140], format: \"2017-08-18\" \"2017-08-18\" ...\n",
      "  ..$ home.team : chr [1:1140] \"Leganes\" \"Valencia\" \"Celta\" \"Girona\" ...\n",
      "  ..$ home.score: num [1:1140] 1 1 2 2 1 0 2 0 1 0 ...\n",
      "  ..$ away.team : chr [1:1140] \"Alaves\" \"Las Palmas\" \"Sociedad\" \"Ath Madrid\" ...\n",
      "  ..$ away.score: num [1:1140] 0 0 3 2 1 0 0 3 0 1 ...\n",
      " $ teams        :'data.frame':\t26 obs. of  1 variable:\n",
      "  ..$ name: chr [1:26] \"Alaves\" \"Ath Bilbao\" \"Ath Madrid\" \"Barcelona\" ...\n",
      " $ team.resolver:'data.frame':\t26 obs. of  2 variables:\n",
      "  ..$ name    : chr [1:26] \"Alaves\" \"Ath Bilbao\" \"Ath Madrid\" \"Barcelona\" ...\n",
      "  ..$ alt.name: chr [1:26] \"Alaves\" \"Ath Bilbao\" \"Ath Madrid\" \"Barcelona\" ...\n",
      " $ updated      : logi FALSE\n",
      " $ ok           : logi TRUE\n"
     ]
    }
   ],
   "source": [
    "#Se cargarn los datos\n",
    "listasoccer <- create.fbRanks.dataframes(\"soccer.csv\")\n",
    "str(listasoccer)"
   ]
  },
  {
   "cell_type": "code",
   "execution_count": 47,
   "metadata": {},
   "outputs": [],
   "source": [
    "#Se guardan los datos que utilizaremos para la predicción\n",
    "anotaciones <- listasoccer$scores\n",
    "equipos <- listasoccer$teams"
   ]
  },
  {
   "cell_type": "markdown",
   "metadata": {},
   "source": [
    "3. Con ayuda de la función unique crea un vector de fechas (fecha) que no se repitan y que correspondan a las fechas en las que se jugaron partidos. Crea una variable llamada n que contenga el número de fechas diferentes. Posteriormente, con la función rank.teams y usando como argumentos los data frames anotaciones y equipos, crea un ranking de equipos usando únicamente datos desde la fecha inicial y hasta la penúltima fecha en la que se jugaron partidos, estas fechas las deberá especificar en max.date y min.date. Guarda los resultados con el nombre ranking."
   ]
  },
  {
   "cell_type": "code",
   "execution_count": 51,
   "metadata": {},
   "outputs": [
    {
     "name": "stdout",
     "output_type": "stream",
     "text": [
      "[1] \"Existen 331 fechas diferentes\"\n"
     ]
    }
   ],
   "source": [
    "#Se crea un vector de fechas\n",
    "fechas <- unique(listasoccer$scores$date) #Ya están en orden\n",
    "n <- length(fechas)\n",
    "print(paste('Existen',n,'fechas diferentes'))"
   ]
  },
  {
   "cell_type": "code",
   "execution_count": 54,
   "metadata": {},
   "outputs": [
    {
     "name": "stdout",
     "output_type": "stream",
     "text": [
      "[1] \"Existe una diferencia de 1222 entre 2017-08-18 y 2020-12-22\"\n"
     ]
    }
   ],
   "source": [
    "#Se obtiene la primera y ultima fecha\n",
    "rango <- fechas[c(1,n-1)]\n",
    "print(paste('Existe una diferencia de',diff(rango), 'entre',fechas[1],'y',fechas[n-1]))"
   ]
  },
  {
   "cell_type": "code",
   "execution_count": 55,
   "metadata": {},
   "outputs": [
    {
     "name": "stdout",
     "output_type": "stream",
     "text": [
      "\n",
      "Team Rankings based on matches 2017-08-18 to 2020-12-22\n",
      "   team        total attack defense n.games.Var1 n.games.Freq\n",
      "1  Barcelona    1.53 2.24   1.29    Barcelona    114         \n",
      "2  Ath Madrid   1.23 1.32   1.77    Ath Madrid   114         \n",
      "3  Real Madrid  1.13 1.86   1.17    Real Madrid  114         \n",
      "4  Valencia     0.54 1.33   1.10    Valencia     113         \n",
      "5  Getafe       0.53 1.08   1.33    Getafe       114         \n",
      "6  Granada      0.47 1.33   1.05    Granada       38         \n",
      "7  Sevilla      0.44 1.36   0.99    Sevilla      113         \n",
      "8  Villarreal   0.35 1.40   0.91    Villarreal   114         \n",
      "9  Sociedad     0.32 1.38   0.90    Sociedad     114         \n",
      "10 Ath Bilbao   0.10 1.01   1.06    Ath Bilbao   114         \n",
      "11 Osasuna      0.06 1.19   0.88    Osasuna       38         \n",
      "12 Betis        0.02 1.27   0.80    Betis        114         \n",
      "13 Celta        0.01 1.24   0.81    Celta        114         \n",
      "14 Levante     -0.01 1.26   0.79    Levante      113         \n",
      "15 Eibar       -0.06 1.07   0.90    Eibar        114         \n",
      "16 Girona      -0.18 1.07   0.82    Girona        76         \n",
      "17 Espanol     -0.22 0.92   0.94    Espanol      114         \n",
      "18 Alaves      -0.27 0.94   0.88    Alaves       114         \n",
      "19 Valladolid  -0.29 0.80   1.02    Valladolid    76         \n",
      "20 Leganes     -0.31 0.83   0.97    Leganes      113         \n",
      "21 Huesca      -0.35 1.08   0.72    Huesca        37         \n",
      "22 Mallorca    -0.39 1.04   0.73    Mallorca      38         \n",
      "23 Vallecano   -0.56 1.02   0.66    Vallecano     37         \n",
      "24 La Coruna   -0.83 0.94   0.60    La Coruna     38         \n",
      "25 Malaga      -1.18 0.58   0.76    Malaga        38         \n",
      "26 Las Palmas  -1.44 0.59   0.62    Las Palmas    38         \n"
     ]
    }
   ],
   "source": [
    "#Se crea un ranking \n",
    "ranking <- rank.teams(scores=anotaciones, teams = equipos, max.date = rango[2], min.date = rango[1])"
   ]
  },
  {
   "cell_type": "markdown",
   "metadata": {},
   "source": [
    "4. Finalmente estima las probabilidades de los eventos, el equipo de casa gana, el equipo visitante gana o el resultado es un empate para los partidos que se jugaron en la última fecha del vector de fechas fecha. Esto lo puedes hacer con ayuda de la función predict y usando como argumentos ranking y fecha[n] que deberá especificar en date"
   ]
  },
  {
   "cell_type": "code",
   "execution_count": 56,
   "metadata": {
    "scrolled": true
   },
   "outputs": [
    {
     "name": "stdout",
     "output_type": "stream",
     "text": [
      "Predicted Match Results for 1900-05-01 to 2100-06-01\n",
      "Model based on data from 2017-08-18 to 2020-12-22\n",
      "---------------------------------------------\n",
      "2020-12-23 Leganes vs Sevilla, HW 22%, AW 50%, T 27%, pred score 0.8-1.4  actual: T (1-1)\n",
      "2020-12-23 Valencia vs Huesca, HW 57%, AW 20%, T 23%, pred score 1.8-1  actual: HW (2-1)\n",
      "2020-12-23 Vallecano vs Levante, HW 26%, AW 52%, T 22%, pred score 1.3-1.9  actual: HW (2-1)\n"
     ]
    }
   ],
   "source": [
    "#Se hace una predicción de la ultima fecha\n",
    "prediccion <- predict.fbRanks(ranking,date = fechas[n])"
   ]
  },
  {
   "cell_type": "markdown",
   "metadata": {},
   "source": [
    "**Hallazgos:** \n",
    "\n",
    "1. La librería fbRanks utiliza el modelo de regresión de Poisson, el cual se usa para modelar datos de conteo. Es decir, el número de veces que ocurre cierto fenómeno aleatorio por unidad de tiempo, área o producto cuya probabilidad de ocurrencia es constante. \n",
    "2. Por medio de esta librería, es posible calcular la probabilidad de que gane el equipo local o el visitante, así como el marcador final. Esto se logra mediante un modelo de regresión que estima los ataques y defensas de los equipos. Utilizando estos datos, se hacen predicciones de probabilidad con base en qué tan verosímil es que en un equipo meta más goles que el otro por sus rankings de ataque y defensa.\n",
    "\n",
    "**Conclusiones:**\n",
    "\n",
    "Si bien la librería nos presenta la posibilidad de hacer predicciones sobre los resultados de los partidos, estos no siempre son 100% precisos. Es necesario aclarar que, como esta librería trabaja con funciones ‘glm’ (Generalized Linear Model), podrían existir otros modelos de mayor precisión si se utilizaran otros ajustes. De igual forma, al igual que en todos los modelos, disponer de una cantidad reducida de datos puede perjudicar la precisión de las predicciones ya que no habría suficientes elementos para identificar el ataque y la defensa de los equipos entre sí."
   ]
  },
  {
   "cell_type": "markdown",
   "metadata": {},
   "source": [
    "## Postwork 6 - Series de tiempo \n",
    "**Objetivo:** Crear y manejar series de tiempo en R para determinar patrones.\n",
    "\n",
    "**Hipotesis:** El promedio de goles por mes y por año después de la grupación se mantiene dentro de un rango especifico.\n",
    "\n",
    "\n",
    "**Preguntas clave:**\n",
    "1. ¿Se cuenta con información de los eventos?\n",
    "2. ¿Cuáles son las fechas en las que ocurren los eventos?\n",
    "3. ¿Cómo se agrupan los datos?"
   ]
  },
  {
   "cell_type": "markdown",
   "metadata": {},
   "source": [
    "Importa el conjunto de datos match.data.csv a R"
   ]
  },
  {
   "cell_type": "code",
   "execution_count": 57,
   "metadata": {},
   "outputs": [],
   "source": [
    "#Se descargan los datos\n",
    "LinkDatos <- 'https://raw.githubusercontent.com/beduExpert/Programacion-R-Santander-2021/main/Sesion-06/Postwork/match.data.csv'\n",
    "DatosMatch <- read.csv(LinkDatos)"
   ]
  },
  {
   "cell_type": "code",
   "execution_count": 58,
   "metadata": {},
   "outputs": [],
   "source": [
    "#Se cambia la columna date a tipo fecha\n",
    "DatosMatch <- mutate(DatosMatch,date= as.Date(DatosMatch$date, format = \"%Y-%m-%d\") )"
   ]
  },
  {
   "cell_type": "code",
   "execution_count": 59,
   "metadata": {},
   "outputs": [
    {
     "name": "stdout",
     "output_type": "stream",
     "text": [
      "'data.frame':\t3800 obs. of  5 variables:\n",
      " $ date      : Date, format: \"2010-08-28\" \"2010-08-28\" ...\n",
      " $ home.team : Factor w/ 33 levels \"Alaves\",\"Almeria\",..: 15 20 21 11 17 22 23 25 27 4 ...\n",
      " $ home.score: int  0 1 1 3 0 0 0 0 1 4 ...\n",
      " $ away.team : Factor w/ 33 levels \"Alaves\",\"Almeria\",..: 3 26 29 12 33 24 2 5 32 28 ...\n",
      " $ away.score: int  1 4 3 1 0 0 0 3 0 0 ...\n"
     ]
    }
   ],
   "source": [
    "str(DatosMatch)"
   ]
  },
  {
   "cell_type": "markdown",
   "metadata": {},
   "source": [
    "1. Agrega una nueva columna sumagoles que contenga la suma de goles por partido."
   ]
  },
  {
   "cell_type": "code",
   "execution_count": 60,
   "metadata": {},
   "outputs": [
    {
     "data": {
      "text/html": [
       "<table>\n",
       "<thead><tr><th scope=col>date</th><th scope=col>home.team</th><th scope=col>home.score</th><th scope=col>away.team</th><th scope=col>away.score</th><th scope=col>total.goles</th></tr></thead>\n",
       "<tbody>\n",
       "\t<tr><td>2010-08-28 </td><td>Hercules   </td><td>0          </td><td>Ath Bilbao </td><td>1          </td><td>1          </td></tr>\n",
       "\t<tr><td>2010-08-28 </td><td>Levante    </td><td>1          </td><td>Sevilla    </td><td>4          </td><td>5          </td></tr>\n",
       "\t<tr><td>2010-08-28 </td><td>Malaga     </td><td>1          </td><td>Valencia   </td><td>3          </td><td>4          </td></tr>\n",
       "\t<tr><td>2010-08-29 </td><td>Espanol    </td><td>3          </td><td>Getafe     </td><td>1          </td><td>4          </td></tr>\n",
       "\t<tr><td>2010-08-29 </td><td>La Coruna  </td><td>0          </td><td>Zaragoza   </td><td>0          </td><td>0          </td></tr>\n",
       "\t<tr><td>2010-08-29 </td><td>Mallorca   </td><td>0          </td><td>Real Madrid</td><td>0          </td><td>0          </td></tr>\n",
       "</tbody>\n",
       "</table>\n"
      ],
      "text/latex": [
       "\\begin{tabular}{r|llllll}\n",
       " date & home.team & home.score & away.team & away.score & total.goles\\\\\n",
       "\\hline\n",
       "\t 2010-08-28  & Hercules    & 0           & Ath Bilbao  & 1           & 1          \\\\\n",
       "\t 2010-08-28  & Levante     & 1           & Sevilla     & 4           & 5          \\\\\n",
       "\t 2010-08-28  & Malaga      & 1           & Valencia    & 3           & 4          \\\\\n",
       "\t 2010-08-29  & Espanol     & 3           & Getafe      & 1           & 4          \\\\\n",
       "\t 2010-08-29  & La Coruna   & 0           & Zaragoza    & 0           & 0          \\\\\n",
       "\t 2010-08-29  & Mallorca    & 0           & Real Madrid & 0           & 0          \\\\\n",
       "\\end{tabular}\n"
      ],
      "text/markdown": [
       "\n",
       "| date | home.team | home.score | away.team | away.score | total.goles |\n",
       "|---|---|---|---|---|---|\n",
       "| 2010-08-28  | Hercules    | 0           | Ath Bilbao  | 1           | 1           |\n",
       "| 2010-08-28  | Levante     | 1           | Sevilla     | 4           | 5           |\n",
       "| 2010-08-28  | Malaga      | 1           | Valencia    | 3           | 4           |\n",
       "| 2010-08-29  | Espanol     | 3           | Getafe      | 1           | 4           |\n",
       "| 2010-08-29  | La Coruna   | 0           | Zaragoza    | 0           | 0           |\n",
       "| 2010-08-29  | Mallorca    | 0           | Real Madrid | 0           | 0           |\n",
       "\n"
      ],
      "text/plain": [
       "  date       home.team home.score away.team   away.score total.goles\n",
       "1 2010-08-28 Hercules  0          Ath Bilbao  1          1          \n",
       "2 2010-08-28 Levante   1          Sevilla     4          5          \n",
       "3 2010-08-28 Malaga    1          Valencia    3          4          \n",
       "4 2010-08-29 Espanol   3          Getafe      1          4          \n",
       "5 2010-08-29 La Coruna 0          Zaragoza    0          0          \n",
       "6 2010-08-29 Mallorca  0          Real Madrid 0          0          "
      ]
     },
     "metadata": {},
     "output_type": "display_data"
    }
   ],
   "source": [
    "#Se añada una columna con la suma de los goles anotados por los dos equipos\n",
    "DatosMatch<- mutate(DatosMatch,total.goles=DatosMatch$home.score+DatosMatch$away.score)\n",
    "head(DatosMatch)"
   ]
  },
  {
   "cell_type": "markdown",
   "metadata": {},
   "source": [
    "2. Obtén el promedio por mes de la suma de goles."
   ]
  },
  {
   "cell_type": "code",
   "execution_count": 61,
   "metadata": {},
   "outputs": [
    {
     "name": "stderr",
     "output_type": "stream",
     "text": [
      "`summarise()` has grouped output by 'Yr'. You can override using the `.groups` argument.\n"
     ]
    }
   ],
   "source": [
    "#Se hace una agrupación por año y mes\n",
    "goles<- DatosMatch %>% \n",
    "  group_by( Yr =year(date),Mn = month(date)) %>% \n",
    "  summarise(mean = mean(total.goles))"
   ]
  },
  {
   "cell_type": "markdown",
   "metadata": {},
   "source": [
    "3. Crea la serie de tiempo del promedio por mes de la suma de goles hasta diciembre de 2019."
   ]
  },
  {
   "cell_type": "code",
   "execution_count": 62,
   "metadata": {},
   "outputs": [],
   "source": [
    "#Se crea una serie de tiempo\n",
    "SerieGolM <- ts(goles, st= c(2010,8), end = c(2019,12), fr = 12)"
   ]
  },
  {
   "cell_type": "markdown",
   "metadata": {},
   "source": [
    "4. Grafica la serie de tiempo."
   ]
  },
  {
   "cell_type": "code",
   "execution_count": 63,
   "metadata": {},
   "outputs": [
    {
     "data": {
      "image/png": "[encoded data removed]",
      "text/plain": [
       "plot without title"
      ]
     },
     "metadata": {},
     "output_type": "display_data"
    }
   ],
   "source": [
    "#Se gráfica la serie de tiempo\n",
    "plot(SerieGolM, xlab = \"Tiempo\", ylab = \"Promedio de goles\", main = \"Serie del promedio de goles de la Liga Española\",\n",
    "     sub = \"Agrupación mensual: Agosto de 2010 a Diciembre de 2019\")"
   ]
  },
  {
   "cell_type": "markdown",
   "metadata": {},
   "source": [
    "**Hallazgos:**\n",
    "1. Observamos en el dataset que la Liga Española se juega regularmente de agosto a mayo pero independientemente de la frecuencia con la funciones de lubridate, se obtenía la misma gráfica de la serie de tiempo si se toma 12 o 10 de frecuencia.\n",
    "2. Por la gráfica de nuestra serie de tiempo, podemos inferir una media de goles por partido situada entre los 2 y 3 goles, durante los últimos 10 años de la liga\n",
    "\n",
    "**Conclusiones:**\n",
    "\n",
    "Gracias a las funciones group_by y summarise de la librería lubridate para R, al graficar la serie de tiempo, podemos observar la estacionalidad para los años y meses, y la variación del promedio de goles a lo largo del tiempo.\n"
   ]
  },
  {
   "cell_type": "markdown",
   "metadata": {},
   "source": [
    "## PostWork 7 - RStudio Cloud - Github, conexiones con BDs y lectura de datos externos\n",
    "**Objeivo:** Realizar el alojamiento de un fichero .csv a una base de datos (BDD), en un local host de Mongodb a través de R\n",
    "\n",
    "**Hipotesis:**\n",
    "La eficencia de las consultas se puede mejorar por medio de la conexión de una base de datos a través de un lenguaje de programación.\n",
    "\n",
    "**Preguntas clave:**\n",
    "1. ¿Qué se desea lograr con la conexión? Almacenar, descargar o consultar datos.\n",
    "2. ¿Qué ventajas tiene?\n",
    "3. ¿Qué información es requerida para la conexión?"
   ]
  },
  {
   "cell_type": "markdown",
   "metadata": {},
   "source": [
    "Utilizando el manejador de BDD Mongodb Compass\n",
    "1. Alojar el fichero match.data.csv en una base de datos llamada match_games, nombrando al collection como match"
   ]
  },
  {
   "cell_type": "code",
   "execution_count": 69,
   "metadata": {},
   "outputs": [],
   "source": [
    "#Se hace una conexión con la base de datos\n",
    "Bdconect <- mongo(collection='match',\n",
    "           db='match_games',\n",
    "           url = \"\",\n",
    "           verbose = FALSE)"
   ]
  },
  {
   "cell_type": "code",
   "execution_count": 70,
   "metadata": {},
   "outputs": [],
   "source": [
    "#Se descarga los datos\n",
    "LinkM <-'https://raw.githubusercontent.com/beduExpert/Programacion-R-Santander-2021/main/Sesion-07/Postwork/match.data.csv'\n",
    "DatosMATCH <-read.csv(LinkM)"
   ]
  },
  {
   "cell_type": "code",
   "execution_count": 71,
   "metadata": {},
   "outputs": [],
   "source": [
    "#Se inserta los datos a la base de datos\n",
    "Bdconect$insert(DatosMATCH)"
   ]
  },
  {
   "cell_type": "markdown",
   "metadata": {},
   "source": [
    "2. Una vez hecho esto, realizar un count para conocer el número de registros que se tiene en la base\n"
   ]
  },
  {
   "cell_type": "code",
   "execution_count": 72,
   "metadata": {},
   "outputs": [
    {
     "name": "stdout",
     "output_type": "stream",
     "text": [
      "[1] \"Se guardaron 3800 documentos\"\n"
     ]
    }
   ],
   "source": [
    "#Se cuentan el número de documentos\n",
    "NDoc <- Bdconect$count('{}')\n",
    "\n",
    "print(paste('Se guardaron',NDoc,'documentos'))"
   ]
  },
  {
   "cell_type": "markdown",
   "metadata": {},
   "source": [
    "3. Realiza una consulta utilizando la sintaxis de Mongodb en la base de datos, para conocer el número de goles que metió el Real Madrid el 20 de diciembre de 2015 y contra que equipo jugó, ¿perdió ó fue goleada?"
   ]
  },
  {
   "cell_type": "code",
   "execution_count": 73,
   "metadata": {},
   "outputs": [
    {
     "name": "stdout",
     "output_type": "stream",
     "text": [
      "        date   home_team home_score away_team away_score\n",
      "1 2015-12-20 Real Madrid         10 Vallecano          2\n"
     ]
    }
   ],
   "source": [
    "#Se hace una consulta\n",
    "consulta <- Bdconect$find(query = '{\"date\" : \"2015-12-20\", \"home_team\" : \"Real Madrid\" }')\n",
    "print(consulta)\n",
    "#Real madrid contra Vallecano y Ganó Real madrid "
   ]
  },
  {
   "cell_type": "markdown",
   "metadata": {},
   "source": [
    "4. Por último, no olvides cerrar la conexión con la BDD"
   ]
  },
  {
   "cell_type": "code",
   "execution_count": 74,
   "metadata": {},
   "outputs": [],
   "source": [
    "#Se cierra la conexión\n",
    "rm(Bdconect)"
   ]
  },
  {
   "cell_type": "markdown",
   "metadata": {},
   "source": [
    "**Hallazgos:**\n",
    "1. Se puede controlar de manera remota cada aspecto de la base de datos si se cuenta con los permisos.\n",
    "2. Se puede seguir trabajando con las consultas con los tipos de datos de R. \n",
    "\n",
    "**Conclusiones:**\n",
    "\n",
    "El manejo de las consultas con R nos brinda una facilidad en cuando al manejo de datos. Además es posible planetar procesos complejor o repetitivos desde el lenguaje de programación más alla de la interfaz grafica."
   ]
  },
  {
   "cell_type": "markdown",
   "metadata": {},
   "source": [
    "## Postwork 8 - Dashboards con Shiny - Entorno GUI\n",
    "**Objetivo:** Observar el resultado de la toma de desiciones consecutivas, cuando estas se basan en datos históricos y generar dashboards que muestren información de análisis, ya sea en forma de tablas y gráficas.\n",
    "\n",
    "**Hipotesis:**\n",
    "La GUI puede mejorar la visualización de las datos una vez análizados.\n",
    "\n",
    "**Preguntas clave:**\n",
    "1. ¿Qué información se desea visualizar?\n",
    "2. ¿La información es categotiza?\n",
    "3. ¿Qué tipo de gráfica es mejor para eso datos?\n",
    "4. ¿Cúantas ventanas y/o pestañas son suficientes?"
   ]
  },
  {
   "cell_type": "markdown",
   "metadata": {},
   "source": [
    "Para este postwork genera un dashboard en un solo archivo app.R, para esto realiza lo siguiente:\n",
    "\n",
    "1. Ejecuta el código momios.R\n",
    "2. Almacena los gráficos resultantes en formato png\n",
    "3. Crea un dashboard donde se muestren los resultados con 4 pestañas:\n",
    "4. Una con las gráficas de barras, donde en el eje de las x se muestren los goles de local y visitante con un menu de selección, con una geometría de tipo barras además de hacer un facet_wrap con el equipo visitante\n",
    "5. Realiza una pestaña donde agregues las imágenes de las gráficas del postwork 3\n",
    "6. En otra pestaña coloca el data table del fichero match.data.csv\n",
    "7. Por último en otra pestaña agrega las imágenes de las gráficas de los factores de ganancia mínimo y máximo\n",
    "\n",
    "recuerda que si tienes problemas con el codificado guarda tu archivo app.R con la codificación UTF-8"
   ]
  },
  {
   "cell_type": "markdown",
   "metadata": {},
   "source": [
    "### Diseño de la interfaz y dashboard body"
   ]
  },
  {
   "cell_type": "code",
   "execution_count": null,
   "metadata": {},
   "outputs": [],
   "source": [
    "setwd(\"D:/Program Files/RStudio/TRY1/www\")\n",
    "pData<-read.csv(\"match.data.csv\")\n",
    "choiceV<- names(pData)\n",
    "\n",
    "ui<- fluidPage(\n",
    "    dashboardPage(\n",
    "        dashboardHeader(title = \"Postwork 8\"),\n",
    "        \n",
    "        dashboardSidebar(\n",
    "            \n",
    "            sidebarMenu(\n",
    "                \n",
    "                menuItem(\"Data Table\",tabName = \"data_table\", icon = icon(\"table\")),\n",
    "                menuItem(\"Postwork 3\", tabName = \"img\",icon = icon(\"file-picture-o\")),\n",
    "                menuItem(\"Graficas de Barras\", tabName = \"Dashboard\", icon = icon(\"dashboard\")),\n",
    "                menuItem(\"Frecuencias Relativas\", tabName = \"FR\", icon = icon(\"file-picture-o\"))\n",
    "            )\n",
    "        ),\n",
    "        \n",
    "        dashboardBody(\n",
    "            tabItems(\n",
    "                tabItem( tabName = \"data_table\",\n",
    "                         fluidRow(\n",
    "                             titlePanel(h5(\"Data Table\")),\n",
    "                             dataTableOutput(\"data_table\")\n",
    "                         )),\n",
    "                tabItem(tabName = \"img\",\n",
    "                        titlePanel(h5(\"Imagenes\")),\n",
    "                        img(src=\"PW31.png\",\n",
    "                                   height=400,\n",
    "                                   width=400),\n",
    "                        img(src=\"PW33.png\",\n",
    "                            height=400,\n",
    "                            width=400)\n",
    "                            ),\n",
    "                tabItem(tabName = \"Dashboard\",\n",
    "                        fluidRow(\n",
    "                            titlePanel(h3(\"GrÃ¡ficos de barras\")),\n",
    "                            selectInput(\"x\",\"Seleccionar variable X\",\n",
    "                                        choices = c(choiceV[3],choiceV[5])),\n",
    "                            plotOutput(\"plot1\", height = 400, width = 700)\n",
    "                        )),\n",
    "                tabItem(tabName = \"FR\",\n",
    "                        titlePanel(h4(\"GrÃ¡ficos del cÃ³digo momios\")),\n",
    "                        img(src=\"MMS1.png\", height=400, width=700),\n",
    "                        img(src=\"MMS2.png\", height=400, width=700))\n",
    "                )\n",
    "            )\n",
    "        )\n",
    "    )\n",
    "\n",
    "\n"
   ]
  },
  {
   "cell_type": "markdown",
   "metadata": {},
   "source": [
    "## Server"
   ]
  },
  {
   "cell_type": "code",
   "execution_count": null,
   "metadata": {},
   "outputs": [],
   "source": [
    "server<- function(input, output){\n",
    "    output$data_table<-renderDataTable({pData},\n",
    "                                       options=list(aLengthMenu=c(20,50,80),\n",
    "                                                    iDisplayLength=10)\n",
    "                                       )\n",
    "    output$plot1<-renderPlot({\n",
    "        x<-pData[,input$x]\n",
    "        pData%>% ggplot(aes(x))+\n",
    "            geom_bar()+\n",
    "            facet_wrap(\"pData$away.team\")+\n",
    "            labs(x=input$x, y=\"goles\")+\n",
    "            ylim(0,100)\n",
    "    })\n",
    "    \n",
    "}\n",
    "shinyApp(ui,server)"
   ]
  },
  {
   "cell_type": "markdown",
   "metadata": {},
   "source": [
    "**Hallazgos:**\n",
    "El despliegue del conjunto de datos y gráficas, permite tener un mayor entendimiento de la probabilidad de que ocurran diversos eventos relacionados al puntaje de cada equipo. La base de datos utilizada, incluye información sobre los partidos jugados en diversos años por diferentes equipos de la liga española, que contiene la fecha y los goles por equipo. \n",
    "\n",
    "En la sección 1, se muestra la probabilidad que existe de que cada equipo anote cierta cantidad de goles, además de la posibilidad de ganar, perder o empatar, con el equipo contrario. En la sección 2 se muestra, por medio de gráficas de barras, la probabilidad marginal que existe de que el equipo de casa o invitado meta cierta cantidad de goles, además de un heatmap que muestra la probabilidad conjunta del número de goles que anota el equipo de casa y el equipo visitante.\n",
    "\n",
    "La sección 3, muestra la tabla de datos en la que están basados los gráficos anteriores, con la posibilidad de consultar o filtrar los mismos. Y la última sección contiene las gráficas de momios que permiten conocer la ganancia de una apuesta acertada respecto a los resultados de los partidos de fútbol. De esta manera, se obtiene una perspectiva amplia sobre los posibles resultados de los juegos de fútbol de la liga española. \n",
    "\n",
    "\n",
    "**Conclusiones:**\n",
    "\n",
    "En la realización del último postwork se encontraron dificultades en la agrupación de datos para su graficación, donde la consulta de trabajos anteriores aportó ideas para terminar el mismo. Por otra parte, se discutió la mejor opción de diseño para la app con shiny y las funcionalidades que la interfaz podía tener. Finalmente, se concluyó que el uso de apps permite una visualización amigable e interactiva para el usuario, permitiendo la consulta y utilización de datos y gráficos, sin que este tenga acceso al código o necesite conocer el lenguaje."
   ]
  },
  {
   "cell_type": "markdown",
   "metadata": {},
   "source": [
    "## Notas adicionales\n",
    "\n",
    "Si no tienes instaladas las librerias usa los siguientes comandos"
   ]
  },
  {
   "cell_type": "code",
   "execution_count": null,
   "metadata": {},
   "outputs": [],
   "source": [
    "#install.packages(\"ggplot2\")\n",
    "#install.packages(\"dplyr\")\n",
    "#install.packages(\"rsample\")\n",
    "#install.packages('fbRanks')\n",
    "#install.packages(\"lubridate\")\n",
    "#install.packages(\"mongolite\")\n",
    "#install.packages(\"shiny\")         \n",
    "#install.packages(\"class\")           \n",
    "#install.packages(\"stringr\")         \n",
    "#install.packages(\"shinydashboard\") "
   ]
  }
 ],
 "metadata": {
  "kernelspec": {
   "display_name": "R",
   "language": "R",
   "name": "ir"
  }
 },
 "nbformat": 4,
 "nbformat_minor": 4
}
